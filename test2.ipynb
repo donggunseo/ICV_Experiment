{
 "cells": [
  {
   "cell_type": "code",
   "execution_count": 1,
   "metadata": {},
   "outputs": [],
   "source": [
    "import os\n",
    "os.environ[\"CUDA_VISIBLE_DEVICES\"] = \"3\" "
   ]
  },
  {
   "cell_type": "code",
   "execution_count": 7,
   "metadata": {},
   "outputs": [
    {
     "ename": "AttributeError",
     "evalue": "'Trace' object has no attribute 'modification_hooks'",
     "output_type": "error",
     "traceback": [
      "\u001b[0;31m---------------------------------------------------------------------------\u001b[0m",
      "\u001b[0;31mAttributeError\u001b[0m                            Traceback (most recent call last)",
      "Cell \u001b[0;32mIn[7], line 46\u001b[0m\n\u001b[1;32m     43\u001b[0m         \u001b[38;5;28;01mreturn\u001b[39;00m modified_output\n\u001b[1;32m     45\u001b[0m     \u001b[38;5;66;03m# 후킹된 출력 수정\u001b[39;00m\n\u001b[0;32m---> 46\u001b[0m     \u001b[43mtraces\u001b[49m\u001b[43m[\u001b[49m\u001b[43mlayer\u001b[49m\u001b[43m]\u001b[49m\u001b[38;5;241;43m.\u001b[39;49m\u001b[43mmodification_hooks\u001b[49m\u001b[38;5;241m.\u001b[39mappend(modify_output)\n\u001b[1;32m     48\u001b[0m \u001b[38;5;66;03m# 모델 실행\u001b[39;00m\n\u001b[1;32m     49\u001b[0m output \u001b[38;5;241m=\u001b[39m model(input_tensor)\n",
      "\u001b[0;31mAttributeError\u001b[0m: 'Trace' object has no attribute 'modification_hooks'"
     ]
    }
   ],
   "source": [
    "import torch\n",
    "import torch.nn as nn\n",
    "from baukit import TraceDict\n",
    "\n",
    "# 간단한 모델 정의 (예제)\n",
    "class SimpleModel(nn.Module):\n",
    "    def __init__(self):\n",
    "        super().__init__()\n",
    "        self.fc1 = nn.Linear(10, 10)\n",
    "        self.fc2 = nn.Linear(10, 10)\n",
    "        self.fc3 = nn.Linear(10, 10)\n",
    "    \n",
    "    def forward(self, x):\n",
    "        x = self.fc1(x)\n",
    "        x = self.fc2(x)\n",
    "        x = self.fc3(x)\n",
    "        return x\n",
    "\n",
    "# 모델 및 입력 데이터 생성\n",
    "model = SimpleModel()\n",
    "input_tensor = torch.randn(1, 10)\n",
    "\n",
    "# 더할 벡터 정의\n",
    "modification_vectors = {\n",
    "    'fc1': torch.randn(1, 10),\n",
    "    'fc2': torch.randn(1, 10),\n",
    "    'fc3': torch.randn(1, 10),\n",
    "}\n",
    "\n",
    "# 연산 결과를 저장할 딕셔너리\n",
    "operation_results = {}\n",
    "\n",
    "# TraceDict 사용\n",
    "with TraceDict(model, ['fc1', 'fc2', 'fc3'], edit_output=True) as traces:\n",
    "    for layer in modification_vectors.keys():\n",
    "        def modify_output(output, layer_name=layer):  # layer_name을 명시적으로 캡처\n",
    "            added_vector = modification_vectors[layer_name].to(output.device)  # 벡터를 출력과 같은 장치로 이동\n",
    "            modified_output = output + added_vector  # 벡터 추가\n",
    "\n",
    "            # 연산 결과 저장 (두 벡터의 차이)\n",
    "            operation_results[layer_name] = (output - added_vector).detach().cpu()\n",
    "\n",
    "            return modified_output\n",
    "\n",
    "        # 후킹된 출력 수정\n",
    "        traces[layer].modification_hooks.append(modify_output)\n",
    "\n",
    "    # 모델 실행\n",
    "    output = model(input_tensor)\n",
    "\n",
    "# 결과 출력\n",
    "print(\"Final Output:\", output)\n",
    "print(\"Stored Operation Results:\")\n",
    "for layer, value in operation_results.items():\n",
    "    print(f\"{layer} Difference:\", value)"
   ]
  },
  {
   "cell_type": "code",
   "execution_count": null,
   "metadata": {},
   "outputs": [],
   "source": []
  }
 ],
 "metadata": {
  "kernelspec": {
   "display_name": "fv",
   "language": "python",
   "name": "python3"
  },
  "language_info": {
   "codemirror_mode": {
    "name": "ipython",
    "version": 3
   },
   "file_extension": ".py",
   "mimetype": "text/x-python",
   "name": "python",
   "nbconvert_exporter": "python",
   "pygments_lexer": "ipython3",
   "version": "3.10.15"
  }
 },
 "nbformat": 4,
 "nbformat_minor": 2
}
