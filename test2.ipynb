{
 "cells": [
  {
   "cell_type": "code",
   "execution_count": 3,
   "metadata": {},
   "outputs": [],
   "source": [
    "from utils.postprocess_utils import *\n",
    "import json\n",
    "from transformers import AutoTokenizer\n",
    "\n",
    "tokenizer = AutoTokenizer.from_pretrained(\"meta-llama/Meta-Llama-3.1-8B-Instruct\")\n",
    "\n",
    "save_path_root = './results/gsm8k/'\n",
    "with open(save_path_root + '42/20shots/fs_result.json', 'r') as f:\n",
    "    fs_42 = json.load(f)\n",
    "with open(save_path_root + '41/20shots/fs_result.json', 'r') as f:\n",
    "    fs_41 = json.load(f)\n",
    "with open(save_path_root + '40/20shots/fs_result.json', 'r') as f:\n",
    "    fs_40 = json.load(f)\n",
    "\n",
    "with open(save_path_root + '42/zs_result.json', 'r') as f:\n",
    "    zs_42 = json.load(f)\n",
    "with open(save_path_root + '41/zs_result.json', 'r') as f:\n",
    "    zs_41 = json.load(f)\n",
    "with open(save_path_root + '40/zs_result.json', 'r') as f:\n",
    "    zs_40 = json.load(f)\n",
    "\n",
    "with open(save_path_root + '42/20shots/stacked_diff_icv_result.json', 'r') as f:\n",
    "    diff_42 = json.load(f)\n",
    "with open(save_path_root + '41/20shots/stacked_diff_icv_result.json', 'r') as f:\n",
    "    diff_41 = json.load(f)\n",
    "with open(save_path_root + '40/20shots/stacked_diff_icv_result.json', 'r') as f:\n",
    "    diff_40 = json.load(f)"
   ]
  },
  {
   "cell_type": "code",
   "execution_count": 4,
   "metadata": {},
   "outputs": [],
   "source": [
    "def correct(pred, gt):\n",
    "    if extract_answer_gsm8k(pred)==extract_answer_gsm8k(gt):\n",
    "        return True\n",
    "    else:\n",
    "        return False"
   ]
  },
  {
   "cell_type": "code",
   "execution_count": 7,
   "metadata": {},
   "outputs": [
    {
     "name": "stdout",
     "output_type": "stream",
     "text": [
      "[0, 1, 2, 4, 6, 7, 8, 9, 10, 11, 12, 15, 18, 20, 21, 22, 24, 26, 27, 28, 29, 30, 31, 32, 35, 36, 37, 39, 40, 42, 43, 44, 45, 46, 47, 51, 53, 54, 56, 57, 59, 60, 61, 62, 63, 64, 65, 66, 68, 69, 70, 71, 73, 75, 76, 77, 78, 79, 81, 82, 83, 91, 92, 93, 94, 95, 97, 98, 99]\n",
      "[3, 5, 13, 14, 16, 17, 19, 23, 25, 33, 34, 38, 41, 48, 49, 50, 52, 55, 58, 67, 72, 74, 80, 84, 85, 86, 87, 88, 89, 90, 96]\n",
      "_________\n",
      "[1, 2, 4, 5, 6, 7, 8, 9, 11, 12, 13, 14, 15, 16, 17, 18, 20, 21, 22, 23, 24, 27, 28, 29, 30, 31, 32, 35, 36, 37, 38, 39, 40, 42, 43, 44, 45, 46, 47, 49, 51, 52, 53, 54, 57, 61, 62, 63, 64, 65, 66, 68, 70, 71, 72, 73, 75, 76, 77, 78, 79, 80, 81, 82, 83, 85, 87, 88, 89, 91, 92, 93, 94, 95, 97, 98, 99]\n",
      "[0, 3, 10, 19, 25, 26, 33, 34, 41, 48, 50, 55, 56, 58, 59, 60, 67, 69, 74, 84, 86, 90, 96]\n",
      "_________\n",
      "[0, 1, 2, 6, 7, 8, 11, 12, 13, 14, 15, 16, 17, 18, 20, 21, 23, 27, 28, 29, 31, 32, 35, 36, 37, 39, 40, 42, 43, 44, 45, 46, 49, 51, 52, 53, 54, 56, 57, 59, 60, 61, 62, 63, 65, 66, 68, 69, 70, 71, 73, 74, 76, 77, 78, 79, 80, 81, 82, 85, 90, 91, 92, 93, 94, 95, 96, 97, 98, 99]\n",
      "[3, 4, 5, 9, 10, 19, 22, 24, 25, 26, 30, 33, 34, 38, 41, 47, 48, 50, 55, 58, 64, 67, 72, 75, 83, 84, 86, 87, 88, 89]\n",
      "_________\n",
      "[1, 2, 4, 5, 6, 7, 9, 10, 12, 13, 14, 18, 20, 21, 23, 24, 27, 28, 29, 30, 31, 32, 35, 36, 37, 39, 40, 42, 44, 45, 46, 47, 48, 50, 51, 52, 53, 54, 56, 57, 58, 60, 61, 62, 63, 64, 65, 67, 68, 69, 70, 72, 73, 74, 75, 76, 77, 80, 81, 82, 83, 84, 85, 86, 87, 89, 90, 91, 92, 93, 94, 95, 96, 98, 99]\n",
      "[0, 3, 8, 11, 15, 16, 17, 19, 22, 25, 26, 33, 34, 38, 41, 43, 49, 55, 59, 66, 71, 78, 79, 88, 97]\n",
      "_________\n",
      "[0, 2, 4, 6, 7, 8, 9, 10, 13, 14, 15, 16, 17, 18, 21, 22, 23, 24, 27, 28, 29, 30, 31, 32, 36, 38, 39, 40, 42, 43, 44, 45, 46, 47, 50, 51, 53, 54, 56, 59, 60, 62, 63, 64, 65, 66, 67, 68, 69, 70, 71, 73, 74, 76, 77, 79, 81, 82, 83, 84, 86, 87, 89, 90, 91, 92, 93, 94, 95, 97, 98, 99]\n",
      "[1, 3, 5, 11, 12, 19, 20, 25, 26, 33, 34, 35, 37, 41, 48, 49, 52, 55, 57, 58, 61, 72, 75, 78, 80, 85, 88, 96]\n",
      "_________\n",
      "[0, 1, 2, 4, 6, 7, 8, 9, 11, 12, 13, 14, 15, 17, 18, 20, 21, 23, 24, 26, 27, 29, 30, 35, 36, 37, 39, 40, 42, 43, 44, 46, 47, 50, 51, 52, 53, 54, 56, 57, 58, 59, 61, 62, 63, 64, 65, 66, 67, 68, 71, 72, 73, 74, 76, 77, 79, 82, 83, 84, 85, 86, 87, 89, 90, 91, 92, 93, 94, 95, 97, 98, 99]\n",
      "[3, 5, 10, 16, 19, 22, 25, 28, 31, 32, 33, 34, 38, 41, 45, 48, 49, 55, 60, 69, 70, 75, 78, 80, 81, 88, 96]\n",
      "_________\n",
      "[0, 1, 2, 4, 6, 7, 9, 10, 11, 15, 16, 17, 18, 20, 24, 26, 27, 28, 29, 30, 31, 32, 35, 36, 37, 38, 39, 40, 42, 43, 44, 45, 46, 48, 50, 51, 52, 53, 54, 56, 57, 59, 60, 62, 63, 65, 66, 68, 69, 70, 73, 74, 76, 77, 78, 79, 80, 82, 83, 84, 85, 87, 89, 91, 92, 93, 94, 95, 96, 97, 98, 99]\n",
      "[3, 5, 8, 12, 13, 14, 19, 21, 22, 23, 25, 33, 34, 41, 47, 49, 55, 58, 61, 64, 67, 71, 72, 75, 81, 86, 88, 90]\n",
      "_________\n",
      "[0, 1, 2, 4, 6, 7, 8, 9, 10, 11, 12, 13, 15, 16, 17, 18, 20, 21, 23, 25, 26, 27, 28, 29, 30, 31, 32, 34, 35, 36, 37, 38, 39, 40, 42, 43, 44, 45, 46, 47, 50, 51, 52, 54, 56, 57, 59, 60, 61, 63, 64, 65, 66, 67, 68, 69, 70, 71, 72, 73, 74, 75, 76, 77, 79, 81, 82, 83, 85, 87, 88, 89, 90, 91, 92, 93, 94, 95, 96, 98, 99]\n",
      "[3, 5, 14, 19, 22, 24, 33, 41, 48, 49, 53, 55, 58, 62, 78, 80, 84, 86, 97]\n",
      "_________\n",
      "[0, 2, 4, 6, 7, 9, 10, 13, 15, 16, 17, 18, 20, 21, 23, 24, 26, 27, 28, 29, 30, 31, 32, 35, 36, 37, 38, 39, 40, 42, 43, 44, 45, 46, 47, 50, 51, 52, 53, 54, 56, 57, 59, 60, 61, 62, 63, 64, 65, 66, 69, 70, 73, 74, 76, 77, 78, 79, 80, 81, 82, 83, 88, 90, 91, 92, 93, 95, 97, 98, 99]\n",
      "[1, 3, 5, 8, 11, 12, 14, 19, 22, 25, 33, 34, 41, 48, 49, 55, 58, 67, 68, 71, 72, 75, 84, 85, 86, 87, 89, 94, 96]\n",
      "_________\n"
     ]
    }
   ],
   "source": [
    "\n",
    "for res in [fs_42, fs_41, fs_40, zs_42, zs_41, zs_40, diff_42, diff_41, diff_40]:\n",
    "    correct_prob = []\n",
    "    wrong_prob = []\n",
    "    for i in range(len(res['result'])):\n",
    "        if correct(res['result'][i]['cleaned_prediction'], res['result'][i]['gt']):\n",
    "            correct_prob.append(i)\n",
    "        else:\n",
    "            wrong_prob.append(i)\n",
    "    print(correct_prob)\n",
    "    print(wrong_prob)\n",
    "    print(\"_________\")"
   ]
  },
  {
   "cell_type": "code",
   "execution_count": 19,
   "metadata": {},
   "outputs": [],
   "source": [
    "def find_common_elements(list1, list2, list3):\n",
    "    return sorted(list(set(list1) & set(list2) & set(list3)))"
   ]
  },
  {
   "cell_type": "code",
   "execution_count": 27,
   "metadata": {},
   "outputs": [],
   "source": [
    "a = [0, 1, 2, 4, 6, 7, 8, 9, 10, 11, 12, 15, 18, 20, 21, 22, 24, 26, 27, 28, 29, 30, 31, 32, 35, 36, 37, 39, 40, 42, 43, 44, 45, 46, 47, 51, 53, 54, 56, 57, 59, 60, 61, 62, 63, 64, 65, 66, 68, 69, 70, 71, 73, 75, 76, 77, 78, 79, 81, 82, 83, 91, 92, 93, 94, 95, 97, 98, 99]\n",
    "b = [1, 2, 4, 5, 6, 7, 8, 9, 11, 12, 13, 14, 15, 16, 17, 18, 20, 21, 22, 23, 24, 27, 28, 29, 30, 31, 32, 35, 36, 37, 38, 39, 40, 42, 43, 44, 45, 46, 47, 49, 51, 52, 53, 54, 57, 61, 62, 63, 64, 65, 66, 68, 70, 71, 72, 73, 75, 76, 77, 78, 79, 80, 81, 82, 83, 85, 87, 88, 89, 91, 92, 93, 94, 95, 97, 98, 99]\n",
    "c = [0, 1, 2, 6, 7, 8, 11, 12, 13, 14, 15, 16, 17, 18, 20, 21, 23, 27, 28, 29, 31, 32, 35, 36, 37, 39, 40, 42, 43, 44, 45, 46, 49, 51, 52, 53, 54, 56, 57, 59, 60, 61, 62, 63, 65, 66, 68, 69, 70, 71, 73, 74, 76, 77, 78, 79, 80, 81, 82, 85, 90, 91, 92, 93, 94, 95, 96, 97, 98, 99]\n",
    "\n",
    "d = [3, 5, 13, 14, 16, 17, 19, 23, 25, 33, 34, 38, 41, 48, 49, 50, 52, 55, 58, 67, 72, 74, 80, 84, 85, 86, 87, 88, 89, 90, 96]\n",
    "e = [0, 3, 10, 19, 25, 26, 33, 34, 41, 48, 50, 55, 56, 58, 59, 60, 67, 69, 74, 84, 86, 90, 96]\n",
    "f = [3, 4, 5, 9, 10, 19, 22, 24, 25, 26, 30, 33, 34, 38, 41, 47, 48, 50, 55, 58, 64, 67, 72, 75, 83, 84, 86, 87, 88, 89]\n",
    "\n",
    "\n",
    "fs_common_correct = find_common_elements(a,b,c)\n",
    "fs_common_wrong = find_common_elements(d,e,f)"
   ]
  },
  {
   "cell_type": "code",
   "execution_count": 28,
   "metadata": {},
   "outputs": [
    {
     "name": "stdout",
     "output_type": "stream",
     "text": [
      "53 13\n"
     ]
    }
   ],
   "source": [
    "print(len(fs_common_correct), len(fs_common_wrong))"
   ]
  },
  {
   "cell_type": "code",
   "execution_count": null,
   "metadata": {},
   "outputs": [],
   "source": [
    "a = [1, 2, 4, 5, 6, 7, 9, 10, 12, 13, 14, 18, 20, 21, 23, 24, 27, 28, 29, 30, 31, 32, 35, 36, 37, 39, 40, 42, 44, 45, 46, 47, 48, 50, 51, 52, 53, 54, 56, 57, 58, 60, 61, 62, 63, 64, 65, 67, 68, 69, 70, 72, 73, 74, 75, 76, 77, 80, 81, 82, 83, 84, 85, 86, 87, 89, 90, 91, 92, 93, 94, 95, 96, 98, 99]\n",
    "b = [1, 2, 4, 5, 6, 7, 9, 10, 12, 13, 14, 18, 20, 21, 23, 24, 27, 28, 29, 30, 31, 32, 35, 36, 37, 39, 40, 42, 44, 45, 46, 47, 48, 50, 51, 52, 53, 54, 56, 57, 58, 60, 61, 62, 63, 64, 65, 67, 68, 69, 70, 72, 73, 74, 75, 76, 77, 80, 81, 82, 83, 84, 85, 86, 87, 89, 90, 91, 92, 93, 94, 95, 96, 98, 99]\n",
    "c = [0, 1, 2, 4, 6, 7, 8, 9, 11, 12, 13, 14, 15, 17, 18, 20, 21, 23, 24, 26, 27, 29, 30, 35, 36, 37, 39, 40, 42, 43, 44, 46, 47, 50, 51, 52, 53, 54, 56, 57, 58, 59, 61, 62, 63, 64, 65, 66, 67, 68, 71, 72, 73, 74, 76, 77, 79, 82, 83, 84, 85, 86, 87, 89, 90, 91, 92, 93, 94, 95, 97, 98, 99]\n",
    "\n",
    "d = [0, 3, 8, 11, 15, 16, 17, 19, 22, 25, 26, 33, 34, 38, 41, 43, 49, 55, 59, 66, 71, 78, 79, 88, 97]\n",
    "e = [0, 3, 10, 19, 25, 26, 33, 34, 41, 48, 50, 55, 56, 58, 59, 60, 67, 69, 74, 84, 86, 90, 96]\n",
    "f = [3, 5, 10, 16, 19, 22, 25, 28, 31, 32, 33, 34, 38, 41, 45, 48, 49, 55, 60, 69, 70, 75, 78, 80, 81, 88, 96]\n",
    "\n",
    "\n",
    "zs_common_correct = find_common_elements(a,b,c)\n",
    "zs_common_wrong = find_common_elements(d,e,f)"
   ]
  },
  {
   "cell_type": "code",
   "execution_count": 31,
   "metadata": {},
   "outputs": [
    {
     "name": "stdout",
     "output_type": "stream",
     "text": [
      "61 7\n"
     ]
    }
   ],
   "source": [
    "print(len(zs_common_correct), len(zs_common_wrong))"
   ]
  },
  {
   "cell_type": "code",
   "execution_count": 32,
   "metadata": {},
   "outputs": [],
   "source": [
    "a = [0, 1, 2, 4, 6, 7, 9, 10, 11, 15, 16, 17, 18, 20, 24, 26, 27, 28, 29, 30, 31, 32, 35, 36, 37, 38, 39, 40, 42, 43, 44, 45, 46, 48, 50, 51, 52, 53, 54, 56, 57, 59, 60, 62, 63, 65, 66, 68, 69, 70, 73, 74, 76, 77, 78, 79, 80, 82, 83, 84, 85, 87, 89, 91, 92, 93, 94, 95, 96, 97, 98, 99]\n",
    "d = [3, 5, 8, 12, 13, 14, 19, 21, 22, 23, 25, 33, 34, 41, 47, 49, 55, 58, 61, 64, 67, 71, 72, 75, 81, 86, 88, 90]\n",
    "b = [0, 1, 2, 4, 6, 7, 8, 9, 10, 11, 12, 13, 15, 16, 17, 18, 20, 21, 23, 25, 26, 27, 28, 29, 30, 31, 32, 34, 35, 36, 37, 38, 39, 40, 42, 43, 44, 45, 46, 47, 50, 51, 52, 54, 56, 57, 59, 60, 61, 63, 64, 65, 66, 67, 68, 69, 70, 71, 72, 73, 74, 75, 76, 77, 79, 81, 82, 83, 85, 87, 88, 89, 90, 91, 92, 93, 94, 95, 96, 98, 99]\n",
    "e = [3, 5, 14, 19, 22, 24, 33, 41, 48, 49, 53, 55, 58, 62, 78, 80, 84, 86, 97]\n",
    "c = [0, 2, 4, 6, 7, 9, 10, 13, 15, 16, 17, 18, 20, 21, 23, 24, 26, 27, 28, 29, 30, 31, 32, 35, 36, 37, 38, 39, 40, 42, 43, 44, 45, 46, 47, 50, 51, 52, 53, 54, 56, 57, 59, 60, 61, 62, 63, 64, 65, 66, 69, 70, 73, 74, 76, 77, 78, 79, 80, 81, 82, 83, 88, 90, 91, 92, 93, 95, 97, 98, 99]\n",
    "f = [1, 3, 5, 8, 11, 12, 14, 19, 22, 25, 33, 34, 41, 48, 49, 55, 58, 67, 68, 71, 72, 75, 84, 85, 86, 87, 89, 94, 96]\n",
    "\n",
    "\n",
    "diff_common_correct = find_common_elements(a,b,c)\n",
    "diff_common_wrong = find_common_elements(d,e,f)"
   ]
  },
  {
   "cell_type": "code",
   "execution_count": 33,
   "metadata": {},
   "outputs": [
    {
     "name": "stdout",
     "output_type": "stream",
     "text": [
      "56 11\n"
     ]
    }
   ],
   "source": [
    "print(len(diff_common_correct), len(diff_common_wrong))"
   ]
  },
  {
   "cell_type": "code",
   "execution_count": 39,
   "metadata": {},
   "outputs": [
    {
     "name": "stdout",
     "output_type": "stream",
     "text": [
      "3514.3566666666666 120.06333333333333 113.69\n",
      "169.21 281.84999999999997 113.69\n",
      "169.21 183.03666666666666 113.69\n"
     ]
    }
   ],
   "source": [
    "for res_group in [[fs_42, fs_41, fs_40], [zs_42, zs_41, zs_40], [diff_42, diff_41, diff_40]]:\n",
    "    p_group = []\n",
    "    g_group = []\n",
    "    for res in res_group:\n",
    "        prompt_token_length = []\n",
    "        generation_token_length = []\n",
    "        gt_token_length = []\n",
    "        for item in res['result']:\n",
    "            prompt_token_length.append(len(tokenizer.encode(item['input_prompt'])))\n",
    "            generation_token_length.append(len(tokenizer.encode(item['cleaned_prediction'])))\n",
    "            gt_token_length.append(len(tokenizer.encode(item['gt'])))\n",
    "        p_group.append(sum(prompt_token_length)/len(prompt_token_length)) \n",
    "        g_group.append(sum(generation_token_length)/len(generation_token_length))\n",
    "    print(sum(p_group)/len(p_group), sum(g_group)/len(g_group), sum(gt_token_length)/len(gt_token_length))"
   ]
  },
  {
   "cell_type": "code",
   "execution_count": 41,
   "metadata": {},
   "outputs": [
    {
     "name": "stdout",
     "output_type": "stream",
     "text": [
      "[1, 2, 6, 7, 8, 11, 12, 15, 18, 20, 21, 27, 28, 29, 31, 32, 35, 36, 37, 39, 40, 42, 43, 44, 45, 46, 51, 53, 54, 57, 61, 62, 63, 65, 66, 68, 70, 71, 73, 76, 77, 78, 79, 81, 82, 91, 92, 93, 94, 95, 97, 98, 99] \n",
      " [3, 19, 25, 33, 34, 41, 48, 50, 55, 58, 67, 84, 86]\n",
      "[1, 2, 4, 6, 7, 9, 12, 13, 14, 18, 20, 21, 23, 24, 27, 29, 30, 35, 36, 37, 39, 40, 42, 44, 46, 47, 50, 51, 52, 53, 54, 56, 57, 58, 61, 62, 63, 64, 65, 67, 68, 72, 73, 74, 76, 77, 82, 83, 84, 85, 86, 87, 89, 90, 91, 92, 93, 94, 95, 98, 99] \n",
      " [3, 19, 25, 33, 34, 41, 55]\n",
      "[0, 2, 4, 6, 7, 9, 10, 15, 16, 17, 18, 20, 26, 27, 28, 29, 30, 31, 32, 35, 36, 37, 38, 39, 40, 42, 43, 44, 45, 46, 50, 51, 52, 54, 56, 57, 59, 60, 63, 65, 66, 69, 70, 73, 74, 76, 77, 79, 82, 83, 91, 92, 93, 95, 98, 99] \n",
      " [3, 5, 14, 19, 22, 33, 41, 49, 55, 58, 86]\n"
     ]
    }
   ],
   "source": [
    "print(fs_common_correct, \"\\n\", fs_common_wrong)\n",
    "print(zs_common_correct, \"\\n\",zs_common_wrong)\n",
    "print(diff_common_correct, \"\\n\",diff_common_wrong)"
   ]
  },
  {
   "cell_type": "code",
   "execution_count": null,
   "metadata": {},
   "outputs": [],
   "source": [
    "import json, os\n",
    "import random\n",
    "\n",
    "path = './dataset_files/synthetic/'\n",
    "file_list = os.listdir(path)\n",
    "print(file)\n",
    "    "
   ]
  },
  {
   "cell_type": "code",
   "execution_count": null,
   "metadata": {},
   "outputs": [
    {
     "data": {
      "text/plain": [
       "['next_item.json',\n",
       " 'capitalize_first_letter.json',\n",
       " 'choose_first_of_5.json',\n",
       " 'english-french.json',\n",
       " 'english-german.json',\n",
       " 'park-country.json',\n",
       " 'landmark-country.json',\n",
       " 'english-spanish.json',\n",
       " 'synonym.json',\n",
       " 'country-capital.json',\n",
       " 'singular-plural.json',\n",
       " 'antonym.json']"
      ]
     },
     "execution_count": 2,
     "metadata": {},
     "output_type": "execute_result"
    }
   ],
   "source": [
    "['next_item',\n",
    " 'capitalize_first_letter',\n",
    " 'choose_first_of_5',\n",
    " 'english-french',\n",
    " 'english-german',\n",
    " 'park-country',\n",
    " 'landmark-country',\n",
    " 'english-spanish',\n",
    " 'synonym',\n",
    " 'country-capital',\n",
    " 'singular-plural',\n",
    " 'antonym']"
   ]
  },
  {
   "cell_type": "code",
   "execution_count": null,
   "metadata": {},
   "outputs": [],
   "source": []
  }
 ],
 "metadata": {
  "kernelspec": {
   "display_name": "fv",
   "language": "python",
   "name": "python3"
  },
  "language_info": {
   "codemirror_mode": {
    "name": "ipython",
    "version": 3
   },
   "file_extension": ".py",
   "mimetype": "text/x-python",
   "name": "python",
   "nbconvert_exporter": "python",
   "pygments_lexer": "ipython3",
   "version": "3.10.15"
  }
 },
 "nbformat": 4,
 "nbformat_minor": 2
}
