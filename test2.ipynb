{
 "cells": [
  {
   "cell_type": "code",
   "execution_count": 1,
   "metadata": {},
   "outputs": [],
   "source": [
    "import os\n",
    "\n",
    "os.environ[\"CUDA_VISIBLE_DEVICES\"]= \"1\" "
   ]
  },
  {
   "cell_type": "code",
   "execution_count": 3,
   "metadata": {},
   "outputs": [
    {
     "data": {
      "application/vnd.jupyter.widget-view+json": {
       "model_id": "a56e0f85585d40db8eb8c322f4a44992",
       "version_major": 2,
       "version_minor": 0
      },
      "text/plain": [
       "Loading checkpoint shards:   0%|          | 0/4 [00:00<?, ?it/s]"
      ]
     },
     "metadata": {},
     "output_type": "display_data"
    },
    {
     "name": "stderr",
     "output_type": "stream",
     "text": [
      "/tmp/ipykernel_850595/693442787.py:19: FutureWarning: You are using `torch.load` with `weights_only=False` (the current default value), which uses the default pickle module implicitly. It is possible to construct malicious pickle data which will execute arbitrary code during unpickling (See https://github.com/pytorch/pytorch/blob/main/SECURITY.md#untrusted-models for more details). In a future release, the default value for `weights_only` will be flipped to `True`. This limits the functions that could be executed during unpickling. Arbitrary objects will no longer be allowed to be loaded via this mode unless they are explicitly allowlisted by the user via `torch.serialization.add_safe_globals`. We recommend you start setting `weights_only=True` for any use case where you don't have full control of the loaded file. Please open an issue on GitHub for any issues related to this experimental feature.\n",
      "  intervention_vectors = torch.load(\"./results_bf16/banking77/42/stacked_diff_icv.pt\").to(dtype=torch.bfloat16).to(device)\n"
     ]
    },
    {
     "ename": "FileNotFoundError",
     "evalue": "[Errno 2] No such file or directory: './results_bf16/banking77/42/stacked_diff_icv.pt'",
     "output_type": "error",
     "traceback": [
      "\u001b[0;31m---------------------------------------------------------------------------\u001b[0m",
      "\u001b[0;31mFileNotFoundError\u001b[0m                         Traceback (most recent call last)",
      "Cell \u001b[0;32mIn[3], line 19\u001b[0m\n\u001b[1;32m     16\u001b[0m input_ids \u001b[38;5;241m=\u001b[39m inputs\u001b[38;5;241m.\u001b[39minput_ids\n\u001b[1;32m     17\u001b[0m original_prompt_length \u001b[38;5;241m=\u001b[39m input_ids\u001b[38;5;241m.\u001b[39mshape[\u001b[38;5;241m1\u001b[39m]\n\u001b[0;32m---> 19\u001b[0m intervention_vectors \u001b[38;5;241m=\u001b[39m \u001b[43mtorch\u001b[49m\u001b[38;5;241;43m.\u001b[39;49m\u001b[43mload\u001b[49m\u001b[43m(\u001b[49m\u001b[38;5;124;43m\"\u001b[39;49m\u001b[38;5;124;43m./results_bf16/banking77/42/stacked_diff_icv.pt\u001b[39;49m\u001b[38;5;124;43m\"\u001b[39;49m\u001b[43m)\u001b[49m\u001b[38;5;241m.\u001b[39mto(dtype\u001b[38;5;241m=\u001b[39mtorch\u001b[38;5;241m.\u001b[39mbfloat16)\u001b[38;5;241m.\u001b[39mto(device)\n\u001b[1;32m     21\u001b[0m \u001b[38;5;28;01mdef\u001b[39;00m \u001b[38;5;21madd_icv\u001b[39m(edit_layer, icv, device, idx\u001b[38;5;241m=\u001b[39m\u001b[38;5;241m-\u001b[39m\u001b[38;5;241m1\u001b[39m):\n\u001b[1;32m     22\u001b[0m     \u001b[38;5;28;01mdef\u001b[39;00m \u001b[38;5;21madd_act\u001b[39m(output, layer_name):\n",
      "File \u001b[0;32m~/anaconda3/envs/fv/lib/python3.10/site-packages/torch/serialization.py:1065\u001b[0m, in \u001b[0;36mload\u001b[0;34m(f, map_location, pickle_module, weights_only, mmap, **pickle_load_args)\u001b[0m\n\u001b[1;32m   1062\u001b[0m \u001b[38;5;28;01mif\u001b[39;00m \u001b[38;5;124m'\u001b[39m\u001b[38;5;124mencoding\u001b[39m\u001b[38;5;124m'\u001b[39m \u001b[38;5;129;01mnot\u001b[39;00m \u001b[38;5;129;01min\u001b[39;00m pickle_load_args\u001b[38;5;241m.\u001b[39mkeys():\n\u001b[1;32m   1063\u001b[0m     pickle_load_args[\u001b[38;5;124m'\u001b[39m\u001b[38;5;124mencoding\u001b[39m\u001b[38;5;124m'\u001b[39m] \u001b[38;5;241m=\u001b[39m \u001b[38;5;124m'\u001b[39m\u001b[38;5;124mutf-8\u001b[39m\u001b[38;5;124m'\u001b[39m\n\u001b[0;32m-> 1065\u001b[0m \u001b[38;5;28;01mwith\u001b[39;00m \u001b[43m_open_file_like\u001b[49m\u001b[43m(\u001b[49m\u001b[43mf\u001b[49m\u001b[43m,\u001b[49m\u001b[43m \u001b[49m\u001b[38;5;124;43m'\u001b[39;49m\u001b[38;5;124;43mrb\u001b[39;49m\u001b[38;5;124;43m'\u001b[39;49m\u001b[43m)\u001b[49m \u001b[38;5;28;01mas\u001b[39;00m opened_file:\n\u001b[1;32m   1066\u001b[0m     \u001b[38;5;28;01mif\u001b[39;00m _is_zipfile(opened_file):\n\u001b[1;32m   1067\u001b[0m         \u001b[38;5;66;03m# The zipfile reader is going to advance the current file position.\u001b[39;00m\n\u001b[1;32m   1068\u001b[0m         \u001b[38;5;66;03m# If we want to actually tail call to torch.jit.load, we need to\u001b[39;00m\n\u001b[1;32m   1069\u001b[0m         \u001b[38;5;66;03m# reset back to the original position.\u001b[39;00m\n\u001b[1;32m   1070\u001b[0m         orig_position \u001b[38;5;241m=\u001b[39m opened_file\u001b[38;5;241m.\u001b[39mtell()\n",
      "File \u001b[0;32m~/anaconda3/envs/fv/lib/python3.10/site-packages/torch/serialization.py:468\u001b[0m, in \u001b[0;36m_open_file_like\u001b[0;34m(name_or_buffer, mode)\u001b[0m\n\u001b[1;32m    466\u001b[0m \u001b[38;5;28;01mdef\u001b[39;00m \u001b[38;5;21m_open_file_like\u001b[39m(name_or_buffer, mode):\n\u001b[1;32m    467\u001b[0m     \u001b[38;5;28;01mif\u001b[39;00m _is_path(name_or_buffer):\n\u001b[0;32m--> 468\u001b[0m         \u001b[38;5;28;01mreturn\u001b[39;00m \u001b[43m_open_file\u001b[49m\u001b[43m(\u001b[49m\u001b[43mname_or_buffer\u001b[49m\u001b[43m,\u001b[49m\u001b[43m \u001b[49m\u001b[43mmode\u001b[49m\u001b[43m)\u001b[49m\n\u001b[1;32m    469\u001b[0m     \u001b[38;5;28;01melse\u001b[39;00m:\n\u001b[1;32m    470\u001b[0m         \u001b[38;5;28;01mif\u001b[39;00m \u001b[38;5;124m'\u001b[39m\u001b[38;5;124mw\u001b[39m\u001b[38;5;124m'\u001b[39m \u001b[38;5;129;01min\u001b[39;00m mode:\n",
      "File \u001b[0;32m~/anaconda3/envs/fv/lib/python3.10/site-packages/torch/serialization.py:449\u001b[0m, in \u001b[0;36m_open_file.__init__\u001b[0;34m(self, name, mode)\u001b[0m\n\u001b[1;32m    448\u001b[0m \u001b[38;5;28;01mdef\u001b[39;00m \u001b[38;5;21m__init__\u001b[39m(\u001b[38;5;28mself\u001b[39m, name, mode):\n\u001b[0;32m--> 449\u001b[0m     \u001b[38;5;28msuper\u001b[39m()\u001b[38;5;241m.\u001b[39m\u001b[38;5;21m__init__\u001b[39m(\u001b[38;5;28;43mopen\u001b[39;49m\u001b[43m(\u001b[49m\u001b[43mname\u001b[49m\u001b[43m,\u001b[49m\u001b[43m \u001b[49m\u001b[43mmode\u001b[49m\u001b[43m)\u001b[49m)\n",
      "\u001b[0;31mFileNotFoundError\u001b[0m: [Errno 2] No such file or directory: './results_bf16/banking77/42/stacked_diff_icv.pt'"
     ]
    }
   ],
   "source": [
    "import torch\n",
    "from transformers import AutoModelForCausalLM, AutoTokenizer, DynamicCache\n",
    "from baukit import TraceDict\n",
    "from tqdm import tqdm\n",
    "\n",
    "model_name = \"meta-llama/Meta-Llama-3.1-8B-Instruct\"\n",
    "model = AutoModelForCausalLM.from_pretrained(model_name, torch_dtype=torch.bfloat16)\n",
    "tokenizer = AutoTokenizer.from_pretrained(model_name)\n",
    "\n",
    "device = torch.device(\"cuda\")\n",
    "model.to(device)\n",
    "\n",
    "# 원래 프롬프트 준비 및 토큰화\n",
    "input_text = \"You are an intelligent assistant trained to classify customer queries into predefined categories. Your task is to read a customer's query and assign it to the most appropriate category from the following list of categories:\\n1.activate_my_card\\n2.age_limit\\n3.apple_pay_or_google_pay\\n4.atm_support\\n5.automatic_top_up\\n6.balance_not_updated_after_bank_transfer\\n7.balance_not_updated_after_cheque_or_cash_deposit\\n8.beneficiary_not_allowed\\n9.cancel_transfer\\n10.card_about_to_expire\\n11.card_acceptance\\n12.card_arrival\\n13.card_delivery_estimate\\n14.card_linking\\n15.card_not_working\\n16.card_payment_fee_charged\\n17.card_payment_not_recognised\\n18.card_payment_wrong_exchange_rate\\n19.card_swallowed\\n20.cash_withdrawal_charge\\n21.cash_withdrawal_not_recognised\\n22.change_pin\\n23.compromised_card\\n24.contactless_not_working\\n25.country_support\\n26.declined_card_payment\\n27.declined_cash_withdrawal\\n28.declined_transfer\\n29.direct_debit_payment_not_recognised\\n30.disposable_card_limits\\n31.edit_personal_details\\n32.exchange_charge\\n33.exchange_rate\\n34.exchange_via_app\\n35.extra_charge_on_statement\\n36.failed_transfer\\n37.fiat_currency_support\\n38.get_disposable_virtual_card\\n39.get_physical_card\\n40.getting_spare_card\\n41.getting_virtual_card\\n42.lost_or_stolen_card\\n43.lost_or_stolen_phone\\n44.order_physical_card\\n45.passcode_forgotten\\n46.pending_card_payment\\n47.pending_cash_withdrawal\\n48.pending_top_up\\n49.pending_transfer\\n50.pin_blocked\\n51.receiving_money\\n52.refund_not_showing_up\\n53.request_refund\\n54.reverted_card_payment\\n55.supported_cards_and_currencies\\n56.terminate_account\\n57.top_up_by_bank_transfer_charge\\n58.top_up_by_card_charge\\n59.top_up_by_cash_or_cheque\\n60.top_up_failed\\n61.top_up_limits\\n62.top_up_reverted\\n63.topping_up_by_card\\n64.transaction_charged_twice\\n65.transfer_fee_charged\\n66.transfer_into_account\\n67.transfer_not_received_by_recipient\\n68.transfer_timing\\n69.unable_to_verify_identity\\n70.verify_my_identity\\n71.verify_source_of_funds\\n72.verify_top_up\\n73.virtual_card_not_working\\n74.visa_or_mastercard\\n75.why_verify_identity\\n76.wrong_amount_of_cash_received\\n77.wrong_exchange_rate_for_cash_withdrawal\\nPlease analyze the query and return the most suitable category from the list above. If the query does not fit perfectly into one category, select the category that best matches the main topic of the query. Only return intent category text and don't return any other words or numbers.\\nQuery: I broke my card\\nIntent:\"\n",
    "inputs = tokenizer(input_text, return_tensors=\"pt\").to(device)\n",
    "input_ids = inputs.input_ids\n",
    "original_prompt_length = input_ids.shape[1]\n",
    "\n",
    "intervention_vectors = torch.load(\"./results_bf16/banking77/42/stacked_diff_icv.pt\").to(dtype=torch.bfloat16).to(device)\n",
    "\n",
    "def add_icv(edit_layer, icv, device, idx=-1):\n",
    "    def add_act(output, layer_name):\n",
    "        current_layer = int(layer_name.split(\".\")[2])\n",
    "        if current_layer in edit_layer:\n",
    "            if isinstance(output, tuple):\n",
    "                output[0][:, idx] += icv[current_layer].to(device)\n",
    "                return output\n",
    "            else:\n",
    "                return output\n",
    "        else:\n",
    "            return output\n",
    "    return add_act\n",
    "\n",
    "last_idx = len(inputs.input_ids[0])-1\n",
    "intervention_fn= add_icv(list(range(32)), intervention_vectors, device, idx=last_idx)\n",
    "\n",
    "for _ in tqdm(range(500)):\n",
    "    with TraceDict(model, layers = [f'model.layers.{layer}' for layer in range(model.config.num_hidden_layers)], edit_output=intervention_fn):\n",
    "        p_output = model.forward(**inputs)\n",
    "        new_token_ids = torch.argmax(p_output.logits[:,-1,:])\n",
    "        if new_token_ids == tokenizer.eos_token_id or new_token_ids==tokenizer.encode('\\n\\n', add_special_tokens=False)[0] or new_token_ids==tokenizer.encode('\\n', add_special_tokens=False)[0]:\n",
    "            break\n",
    "        new_token_ids = new_token_ids.view(1,-1)\n",
    "        print(new_token_ids)\n",
    "        inputs.input_ids = torch.cat((inputs.input_ids, new_token_ids), dim=-1)\n"
   ]
  },
  {
   "cell_type": "code",
   "execution_count": null,
   "metadata": {},
   "outputs": [],
   "source": []
  }
 ],
 "metadata": {
  "kernelspec": {
   "display_name": "fv",
   "language": "python",
   "name": "python3"
  },
  "language_info": {
   "codemirror_mode": {
    "name": "ipython",
    "version": 3
   },
   "file_extension": ".py",
   "mimetype": "text/x-python",
   "name": "python",
   "nbconvert_exporter": "python",
   "pygments_lexer": "ipython3",
   "version": "3.10.15"
  }
 },
 "nbformat": 4,
 "nbformat_minor": 2
}
