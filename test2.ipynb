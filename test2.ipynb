{
 "cells": [
  {
   "cell_type": "code",
   "execution_count": 1,
   "metadata": {},
   "outputs": [],
   "source": [
    "import json\n",
    "import pandas as pd\n",
    "import os"
   ]
  },
  {
   "cell_type": "code",
   "execution_count": 2,
   "metadata": {},
   "outputs": [],
   "source": [
    "task = \"banking77\"\n",
    "\n",
    "path = f\"./results/{task}/\"\n",
    "\n",
    "for seed in os.listdir(path):\n",
    "    p = os.path.join(path,seed)\n",
    "    shot_p = os.path.join(p, \"100shots\")\n",
    "    with open(os.path.join(p, \"zs_result.json\"), 'r', encoding='utf-8') as f:\n",
    "        zs = json.load(f)\n",
    "    with open(os.path.join(shot_p, \"fs_result.json\"), 'r', encoding='utf-8') as f:\n",
    "        fs = json.load(f)\n",
    "    with open(os.path.join(shot_p, \"task_vector_result.json\"), 'r', encoding='utf-8') as f:\n",
    "        task_vector = json.load(f)\n",
    "    with open(os.path.join(shot_p, \"diff_icv_baseline_result.json\"), 'r', encoding='utf-8') as f:\n",
    "        diff_icv_baseline = json.load(f)\n",
    "    with open(os.path.join(shot_p, \"stacked_diff_icv_result.json\"), 'r', encoding='utf-8') as f:\n",
    "        diff_icv = json.load(f)\n",
    "    zs_df = pd.DataFrame(zs['result'])\n",
    "    fs_df = pd.DataFrame(fs['result'])\n",
    "    task_vector_df = pd.DataFrame(task_vector['result'])\n",
    "    diff_icv_baseline_df = pd.DataFrame(diff_icv_baseline['result'])\n",
    "    diff_icv_df = pd.DataFrame(diff_icv['result'])\n",
    "\n",
    "    os.makedirs(os.path.join(p,\"excels\"), exist_ok=True)\n",
    "    zs_df.to_excel(os.path.join(p,\"excels\",\"zs_result.xlsx\"), index=False, engine='openpyxl')\n",
    "    fs_df.to_excel(os.path.join(p,\"excels\",\"fs_result.xlsx\"), index=False, engine='openpyxl')\n",
    "    task_vector_df.to_excel(os.path.join(p,\"excels\",\"task_vector_result.xlsx\"), index=False, engine='openpyxl')\n",
    "    diff_icv_baseline_df.to_excel(os.path.join(p,\"excels\",\"diff_icv_baseline_result.xlsx\"), index=False, engine='openpyxl')\n",
    "    diff_icv_df.to_excel(os.path.join(p,\"excels\",\"stacked_diff_icv_result.xlsx\"), index=False, engine='openpyxl')\n",
    "\n",
    "\n",
    "    "
   ]
  },
  {
   "cell_type": "code",
   "execution_count": 18,
   "metadata": {},
   "outputs": [],
   "source": [
    "def reevaluate(dict):\n",
    "    res = dict['result']\n",
    "    cnt = []\n",
    "    for item in res:\n",
    "        pred = item['cleaned_prediction']\n",
    "        gt = item['gt']\n",
    "        pred = pred.split(\"\\n\")[0]\n",
    "        gt = gt.lower()\n",
    "        if pred==gt:\n",
    "            cnt.append(1)\n",
    "        else:\n",
    "            cnt.append(0)\n",
    "    return sum(cnt)/len(cnt)\n",
    "\n",
    "\n",
    "\n"
   ]
  },
  {
   "cell_type": "code",
   "execution_count": 30,
   "metadata": {},
   "outputs": [
    {
     "name": "stdout",
     "output_type": "stream",
     "text": [
      "{'bleu-score': 22.568479054808716}\n",
      "{'bleu-score': 23.921601493769238}\n",
      "{'bleu-score': 23.14167706964543}\n",
      "______________\n",
      "{'bleu-score': 21.797342076207325}\n",
      "{'bleu-score': 24.252165407986485}\n",
      "{'bleu-score': 23.867748949410416}\n",
      "______________\n",
      "{'bleu-score': 23.22376946119759}\n",
      "{'bleu-score': 22.836488004054413}\n",
      "{'bleu-score': 24.494636584130415}\n",
      "______________\n"
     ]
    }
   ],
   "source": [
    "task = \"wmt19\"\n",
    "\n",
    "path = f\"./results/qwen/{task}/\"\n",
    "\n",
    "for seed in ['40','41','42']:\n",
    "    p = os.path.join(path,seed)\n",
    "    shot_p = os.path.join(p, \"50shots\")\n",
    "    with open(os.path.join(p, \"zs_result.json\"), 'r', encoding='utf-8') as f:\n",
    "        zs = json.load(f)\n",
    "    with open(os.path.join(shot_p, \"fs_result.json\"), 'r', encoding='utf-8') as f:\n",
    "        fs = json.load(f)\n",
    "    # with open(os.path.join(shot_p, \"task_vector_result.json\"), 'r', encoding='utf-8') as f:\n",
    "    #     task_vector = json.load(f)\n",
    "    # with open(os.path.join(shot_p, \"diff_icv_baseline_result.json\"), 'r', encoding='utf-8') as f:\n",
    "    #     diff_icv_baseline = json.load(f)\n",
    "    with open(os.path.join(shot_p, \"stacked_diff_icv_result.json\"), 'r', encoding='utf-8') as f:\n",
    "        diff_icv = json.load(f)\n",
    "\n",
    "    # print(reevaluate(fs))\n",
    "    # print(reevaluate(zs)) \n",
    "    # print(reevaluate(task_vector))\n",
    "    # print(task_vector['intervention_layer'])\n",
    "    # print(reevaluate(diff_icv_baseline))\n",
    "    # print(diff_icv_baseline['intervention_layer'])\n",
    "    # print(reevaluate(diff_icv))\n",
    "    # print(\"_________________\")\n",
    "\n",
    "    print(fs['score'])\n",
    "    print(zs['score'])\n",
    "    # print(task_vector['score'])\n",
    "    # print(diff_icv_baseline['score'])\n",
    "    print(diff_icv['score'])\n",
    "    print(\"______________\")\n",
    "    \n",
    "\n",
    "    \n",
    "    "
   ]
  },
  {
   "cell_type": "code",
   "execution_count": null,
   "metadata": {},
   "outputs": [
    {
     "name": "stdout",
     "output_type": "stream",
     "text": [
      "3.17\n",
      "2.93\n",
      "3.3737373737373737\n",
      "3.11\n",
      "3.32\n",
      "_________\n",
      "3.04\n",
      "3.12\n",
      "3.29\n",
      "3.24\n",
      "3.33\n",
      "_________\n",
      "2.91\n",
      "3.16\n",
      "3.26\n",
      "3.3434343434343434\n",
      "3.313131313131313\n",
      "_________\n"
     ]
    }
   ],
   "source": [
    "task = \"wmt19\"\n",
    "\n",
    "path = f\"./results/qwen/{task}/\"\n",
    "\n",
    "for seed in ['40','41','42']:\n",
    "    p = os.path.join(path,seed)\n",
    "    shot_p = os.path.join(p, \"50shots\")\n",
    "    with open(os.path.join(p, \"zs_gpteval.json\"), 'r', encoding='utf-8') as f:\n",
    "        zs = json.load(f)\n",
    "    with open(os.path.join(shot_p, \"fs_gpteval.json\"), 'r', encoding='utf-8') as f:\n",
    "        fs = json.load(f)\n",
    "    with open(os.path.join(shot_p, \"task_vector_gpteval.json\"), 'r', encoding='utf-8') as f:\n",
    "        task_vector = json.load(f)\n",
    "    with open(os.path.join(shot_p, \"diff_icv_baseline_gpteval.json\"), 'r', encoding='utf-8') as f:\n",
    "        diff_icv_baseline = json.load(f)\n",
    "    with open(os.path.join(shot_p, \"stacked_diff_icv_gpteval.json\"), 'r', encoding='utf-8') as f:\n",
    "        diff_icv = json.load(f)\n",
    "    \n",
    "    for res in [fs,zs,task_vector,diff_icv_baseline, diff_icv]:\n",
    "        score = []\n",
    "        for item in res:\n",
    "            if item['score'] is not None:\n",
    "                score.append(item['score'])\n",
    "        print(sum(score)/len(score))\n",
    "    print(\"_________\")\n",
    "        \n"
   ]
  },
  {
   "cell_type": "code",
   "execution_count": 3,
   "metadata": {},
   "outputs": [
    {
     "name": "stdout",
     "output_type": "stream",
     "text": [
      "3.32\n",
      "3.72\n",
      "3.67\n",
      "_________\n",
      "3.32\n",
      "3.71\n",
      "3.72\n",
      "_________\n",
      "3.42\n",
      "3.717171717171717\n",
      "3.68\n",
      "_________\n"
     ]
    }
   ],
   "source": [
    "task = \"xlsum\"\n",
    "\n",
    "path = f\"./results/{task}/\"\n",
    "\n",
    "for seed in ['40','41','42']:\n",
    "    p = os.path.join(path,seed)\n",
    "    shot_p = os.path.join(p, \"10shots\")\n",
    "    with open(os.path.join(p, \"zs_gpteval.json\"), 'r', encoding='utf-8') as f:\n",
    "        zs = json.load(f)\n",
    "    with open(os.path.join(shot_p, \"fs_gpteval.json\"), 'r', encoding='utf-8') as f:\n",
    "        fs = json.load(f)\n",
    "    with open(os.path.join(shot_p, \"stacked_diff_icv_gpteval.json\"), 'r', encoding='utf-8') as f:\n",
    "        diff_icv = json.load(f)\n",
    "    \n",
    "    for res in [fs,zs,diff_icv]:\n",
    "        score = []\n",
    "        for item in res:\n",
    "            if item['score'] is not None:\n",
    "                score.append(item['score'])\n",
    "        print(sum(score)/len(score))\n",
    "    print(\"_________\")"
   ]
  },
  {
   "cell_type": "code",
   "execution_count": null,
   "metadata": {},
   "outputs": [],
   "source": []
  }
 ],
 "metadata": {
  "kernelspec": {
   "display_name": "fv",
   "language": "python",
   "name": "python3"
  },
  "language_info": {
   "codemirror_mode": {
    "name": "ipython",
    "version": 3
   },
   "file_extension": ".py",
   "mimetype": "text/x-python",
   "name": "python",
   "nbconvert_exporter": "python",
   "pygments_lexer": "ipython3",
   "version": "3.10.15"
  }
 },
 "nbformat": 4,
 "nbformat_minor": 2
}
