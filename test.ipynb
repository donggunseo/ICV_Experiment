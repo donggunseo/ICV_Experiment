{
 "cells": [
  {
   "cell_type": "code",
   "execution_count": 15,
   "metadata": {},
   "outputs": [
    {
     "data": {
      "application/vnd.jupyter.widget-view+json": {
       "model_id": "c41aef82130a4b2b9d886d74bd0c9a77",
       "version_major": 2,
       "version_minor": 0
      },
      "text/plain": [
       "Loading checkpoint shards:   0%|          | 0/4 [00:00<?, ?it/s]"
      ]
     },
     "metadata": {},
     "output_type": "display_data"
    }
   ],
   "source": [
    "import torch\n",
    "from transformers import AutoModelForCausalLM, AutoTokenizer\n",
    "\n",
    "tokenizer = AutoTokenizer.from_pretrained(\"meta-llama/Meta-Llama-3.1-8B-Instruct\")\n",
    "model = AutoModelForCausalLM.from_pretrained(\"meta-llama/Meta-Llama-3.1-8B-Instruct\")\n",
    "\n",
    "sentence = \"Question: How long is Camptown Racetrack ?\\ntype: number\\n\\nQuestion: What is the name of the brilliant British economist behind its creation ?\\ntype: human\\n\\nQuestion: Where do I find information for foreclosure properties on the Internet ?\\ntype: location\\n\\nQuestion: Where did Ty Cobb grow up ?\\ntype: location\\n\\nQuestion: How many teaspoons make up a tablespoon ?\\ntype: number\\n\\nQuestion: What baseball expression came from the nautical term for ships sailing between the Atlantic and Pacific before the Panama Canal ?\\ntype: description\\n\\nQuestion: What animal has been called The Poor Man's Cow ?\\ntype: entity\\n\\nQuestion: What book opens : `` At a certain village in La Mancha, which I shall not name...'' ?\\ntype: entity\\n\\nQuestion: What is the origin of the word, magic ?\\ntype: description\\n\\nQuestion: Name the blind sculptress in love with the Fantastic Four's Thing.\\ntype: human\\n\\nQuestion: Where can I find info on Alexander Mackenzie ?\\ntype: location\\n\\nQuestion: How many years ago did Led Zeppelin release its last album ?\\ntype: number\\n\\nQuestion: What does God create in the first sentence of the Bible ?\\ntype: entity\\n\\nQuestion: What is the price for tuberculosis drugs ?\\ntype: number\\n\\nQuestion: What were Baffin, Frobisher and Franklin looking for ?\\ntype: entity\\n\\nQuestion: What do the red-and-white stripes on a barbershop pole stand for ?\\ntype: description\\n\\nQuestion: How do doctors diagnose bone cancer ?\\ntype: description\\n\\nQuestion: Where can I find a world atlas map online at no charge ?\\ntype: location\\n\\nQuestion: In which Tennessee Williams play is one of the characters killed and devoured by a mob of starving children ?\\ntype: entity\\n\\nQuestion: In what year did they build the Berlin Wall ?\\ntype: number\\n\\nQuestion: What are the Nordic nations ?\\ntype: location\\n\\nQuestion: Name the vessel used by the Atari Force in the DC comics.\\ntype: entity\\n\\nQuestion: What are values ?\\ntype: description\\n\\nQuestion: Where is McCarren Airport ?\\ntype: location\\n\\nQuestion: Which of the following people is not associated with Andy Warhol ?\\ntype: human\\n\\nQuestion: What information can you get me on Fairground Park in St. Louis\\ntype: description\\n\\nQuestion: What according to the Kinsey Institute, is the sexual preference of four percent of American males ?\\ntype: description\\n\\nQuestion: What is the origin of the term `` buffalo wings'' that is used as a menu item in bars across the nation for chicken wings in a spicey sauce ?\\ntype: description\\n\\nQuestion: Who was the original Humpty Dumpty ?\\ntype: human\\n\\nQuestion: How many equal sides are there on a scalene triangle ?\\ntype: number\\n\\nQuestion: Where is Windsor Castle ?\\ntype: location\\n\\nQuestion: Who directed The Wild Bunch ?\\ntype: human\\n\\nQuestion: What is the chromosome number of an elephant ?\\ntype: number\\n\\nQuestion: Where is Qatar ?\\ntype: location\\n\\nQuestion: Who invented the Wonderbra ?\\ntype: human\\n\\nQuestion: What is an example of an actual case of using the Fourteenth Amendment ?\\ntype: description\\n\\nQuestion: What kind of creatures are the Canary Islands named for ?\\ntype: entity\\n\\nQuestion: How can I register my website in Yahoo for free ?\\ntype: description\\n\\nQuestion: What is the seafaring name for the southern tip of South America ?\\ntype: location\\n\\nQuestion: Where can I find a case on Americans with Disabilities Act of 199 ?\\ntype: location\\n\\nQuestion: What are those little blue reflectors in the middle of the road for ?\\ntype: description\\n\\nQuestion: What California bridge was Don Brown the first to cross, on May 27, 1937 ?\\ntype: location\\n\\nQuestion: What card game derived its name from biritch, or Russian Whist ?\\ntype: entity\\n\\nQuestion: What company's logo is a `` W'' in a circle ?\\ntype: human\\n\\nQuestion: What is a portal ?\\ntype: description\\n\\nQuestion: What disease did August von Wassermann develop a specific test for in 196 ?\\ntype: entity\\n\\nQuestion: What's the abbreviation for trinitrotoluene ?\\ntype: abbreviation\\n\\nQuestion: Where did Bill Gates go to college ?\\ntype: location\\n\\nQuestion: On what T.V. show could Tom Terrific be found ?\\ntype: entity\\n\\nQuestion: Why do some clothing labels say `` Use a nonchlorine bleach'' ?\\ntype: description\\n\\nQuestion: What is IOC an abbreviation of ?\\ntype: abbreviation\\n\\nQuestion: What Nazi leader killed himself in jail just before he was to be executed as a war criminal ?\\ntype: human\\n\\nQuestion: Who is the head of the World Bank ?\\ntype: human\\n\\nQuestion: Who is the Prophet of Medina ?\\ntype: human\\n\\nQuestion: Who discovered imaginary numbers ?\\ntype: human\\n\\nQuestion: Which of the following famous people does not paint as a hobby ?\\ntype: human\\n\\nQuestion: What is a caul ?\\ntype: description\\n\\nQuestion: What does saliva consist of ?\\ntype: entity\\n\\nQuestion: What capital is built around Monument Circle which contains soldiers and sailors monument ?\\ntype: location\\n\\nQuestion: What are some tips for building a fire in a fireplace ?\\ntype: entity\\n\\nQuestion: What deck of cards includes the Wheel of Fortune, the Lovers, and Death ?\\ntype: entity\\n\\nQuestion: How many teats does a female goat sport ?\\ntype: number\\n\\nQuestion: How is Answers.com different from KnowPost.com ?\\ntype: description\\n\\nQuestion: Which area produces the least acidic coffee ?\\ntype: location\\n\\nQuestion: What is the fear of frogs ?\\ntype: entity\\n\\nQuestion: Where did the term `` 86'' come from ?\\ntype: description\\n\\nQuestion: Who replaced Bert Parks as the host of The Miss America Pageant ?\\ntype: human\\n\\nQuestion: Who reports the weather on the `` Good Morning America'' television show ?\\ntype: human\\n\\nQuestion: What kind of animals were in the Paleozoic era ?\\ntype: entity\\n\\nQuestion: How much will gas be taxed in California by the year 2000 ?\\ntype: number\\n\\nQuestion: What number is at 12 o'clock on a dartboard ?\\ntype: number\\n\\nQuestion: What was Mao, the Chinese leader's, full name ?\\ntype: human\\n\\nQuestion: What is the richest state in the U.S. ?\\ntype: location\\n\\nQuestion: How did the 7th inning stretch get started ?\\ntype: description\\n\\nQuestion: What does Warner Bros. call a flightless cuckoo ?\\ntype: entity\\n\\nQuestion: Who portrayed `` the man without a face'' in the movie of the same name ?\\ntype: human\\n\\nQuestion: In the movie Groundshog Day what is the name of the character played by Andie MacDowell ?\\ntype: human\\n\\nQuestion: A corgi is a kind of what ?\\ntype: entity\\n\\nQuestion: Why do oceans contain salt water instead of fresh water ?\\ntype: description\\n\\nQuestion: Who was in Death of a Salesman original movie, not 1985 ?\\ntype: human\\n\\nQuestion: What is the movie Jonathan Livingstone Seagull ?\\ntype: entity\\n\\nQuestion: What's the closest G2 Spectrum Yellow Dwarf to Earth ?\\ntype: location\\n\\nQuestion: What does the River Seine empty into ?\\ntype: location\\n\\nQuestion: What city is found in the city of OZ ?\\ntype: location\\n\\nQuestion: Name a tiger that is extinct.\\ntype: entity\\n\\nQuestion: How big is a baby bald eagle ?\\ntype: number\\n\\nQuestion: How do you say 2 in Latin ?\\ntype: entity\\n\\nQuestion: What desert has the highest sand dunes ?\\ntype: location\\n\\nQuestion: What planet did Percival Lovell discover ?\\ntype: location\\n\\nQuestion: How much money did the Marcos steal from their country ?\\ntype: number\\n\\nQuestion: Whose cupboard was bare ?\\ntype: human\\n\\nQuestion: What TV character sired a horse named Thunder ?\\ntype: human\\n\\nQuestion: Where in a tree does photosynthesis occur ?\\ntype: location\\n\\nQuestion: In order from the top, the four stripes on a can of Pepsi are what colors ?\\ntype: entity\\n\\nQuestion: What is the origin of the word nevermind ?\\ntype: description\\n\\nQuestion: Who was the king who signed the Magna Carta ?\\ntype: human\\n\\nQuestion: What is the origin of the typing practice sentence `` Now is the time for all good men to come to the aid of their country'' ?\\ntype: description\\n\\nQuestion: What is a biologist ?\\ntype: description\\n\\nQuestion: How many counties are in Indiana ?\\ntype: number\\n\\nQuestion: What TV show premiered on January 15, 1981 ?\\ntype: entity\\n\\nQuestion: What is caffeine ?\\ntype:\"\n",
    "\n",
    "inputs = tokenizer(sentence, return_tensors='pt')"
   ]
  },
  {
   "cell_type": "code",
   "execution_count": 16,
   "metadata": {},
   "outputs": [
    {
     "data": {
      "text/plain": [
       "LlamaForCausalLM(\n",
       "  (model): LlamaModel(\n",
       "    (embed_tokens): Embedding(128256, 4096)\n",
       "    (layers): ModuleList(\n",
       "      (0-31): 32 x LlamaDecoderLayer(\n",
       "        (self_attn): LlamaSdpaAttention(\n",
       "          (q_proj): Linear(in_features=4096, out_features=4096, bias=False)\n",
       "          (k_proj): Linear(in_features=4096, out_features=1024, bias=False)\n",
       "          (v_proj): Linear(in_features=4096, out_features=1024, bias=False)\n",
       "          (o_proj): Linear(in_features=4096, out_features=4096, bias=False)\n",
       "          (rotary_emb): LlamaRotaryEmbedding()\n",
       "        )\n",
       "        (mlp): LlamaMLP(\n",
       "          (gate_proj): Linear(in_features=4096, out_features=14336, bias=False)\n",
       "          (up_proj): Linear(in_features=4096, out_features=14336, bias=False)\n",
       "          (down_proj): Linear(in_features=14336, out_features=4096, bias=False)\n",
       "          (act_fn): SiLU()\n",
       "        )\n",
       "        (input_layernorm): LlamaRMSNorm((4096,), eps=1e-05)\n",
       "        (post_attention_layernorm): LlamaRMSNorm((4096,), eps=1e-05)\n",
       "      )\n",
       "    )\n",
       "    (norm): LlamaRMSNorm((4096,), eps=1e-05)\n",
       "    (rotary_emb): LlamaRotaryEmbedding()\n",
       "  )\n",
       "  (lm_head): Linear(in_features=4096, out_features=128256, bias=False)\n",
       ")"
      ]
     },
     "execution_count": 16,
     "metadata": {},
     "output_type": "execute_result"
    }
   ],
   "source": [
    "model"
   ]
  },
  {
   "cell_type": "code",
   "execution_count": 17,
   "metadata": {},
   "outputs": [],
   "source": [
    "model.eval()\n",
    "\n",
    "output = model.generate(**inputs, max_new_tokens = 100, \n",
    "                            pad_token_id=tokenizer.eos_token_id, stop_strings = \"\\n\\n\", tokenizer=tokenizer, output_attentions = True, output_hidden_states = True, return_dict_in_generate = True)"
   ]
  },
  {
   "cell_type": "code",
   "execution_count": 23,
   "metadata": {},
   "outputs": [],
   "source": [
    "output2 = model(**inputs, output_attentions = True, output_hidden_states = True, return_dict = True)"
   ]
  },
  {
   "cell_type": "code",
   "execution_count": 38,
   "metadata": {},
   "outputs": [],
   "source": [
    "attn_by_layer = torch.vstack([output2.attentions[layer].detach()[:,:,-1,:] for layer in range(32)])"
   ]
  },
  {
   "cell_type": "code",
   "execution_count": 49,
   "metadata": {},
   "outputs": [],
   "source": [
    "a = attn_by_layer.mean(dim=1)"
   ]
  },
  {
   "cell_type": "code",
   "execution_count": 57,
   "metadata": {},
   "outputs": [
    {
     "data": {
      "text/plain": [
       "1785"
      ]
     },
     "execution_count": 57,
     "metadata": {},
     "output_type": "execute_result"
    }
   ],
   "source": [
    "inputs.input_ids.shape[1]"
   ]
  },
  {
   "cell_type": "code",
   "execution_count": 18,
   "metadata": {},
   "outputs": [],
   "source": [
    "output_str = tokenizer.decode(output.sequences.squeeze()[len(inputs.input_ids.squeeze()):])"
   ]
  },
  {
   "cell_type": "code",
   "execution_count": 19,
   "metadata": {},
   "outputs": [
    {
     "data": {
      "text/plain": [
       "' description\\n\\n'"
      ]
     },
     "execution_count": 19,
     "metadata": {},
     "output_type": "execute_result"
    }
   ],
   "source": [
    "output_str"
   ]
  },
  {
   "cell_type": "code",
   "execution_count": 20,
   "metadata": {},
   "outputs": [
    {
     "data": {
      "text/plain": [
       "torch.Size([1, 32, 1, 1786])"
      ]
     },
     "execution_count": 20,
     "metadata": {},
     "output_type": "execute_result"
    }
   ],
   "source": [
    "output.attentions[1][0].shape"
   ]
  },
  {
   "cell_type": "code",
   "execution_count": 37,
   "metadata": {},
   "outputs": [
    {
     "data": {
      "text/plain": [
       "'Question: What is caffeine?\\ntype:'"
      ]
     },
     "execution_count": 37,
     "metadata": {},
     "output_type": "execute_result"
    }
   ],
   "source": [
    "tokenizer.decode([14924,    25,  3639,   374, 49750, 18072,  1337,    25])"
   ]
  },
  {
   "cell_type": "code",
   "execution_count": 48,
   "metadata": {},
   "outputs": [
    {
     "name": "stdout",
     "output_type": "stream",
     "text": [
      "tensor([1.1035e-03, 9.9065e-06, 1.2617e-06,  ..., 6.9398e-01, 1.1741e-02,\n",
      "        1.6648e-02], grad_fn=<SelectBackward0>)\n",
      "tensor([1.8874e-02, 1.4547e-04, 2.6731e-05,  ..., 1.3111e-01, 1.0900e-01,\n",
      "        8.6950e-02], grad_fn=<SelectBackward0>)\n",
      "tensor([1.9023e-02, 8.2296e-05, 4.9613e-05,  ..., 8.2547e-02, 4.1464e-01,\n",
      "        3.9735e-01], grad_fn=<SelectBackward0>)\n",
      "tensor([0.1365, 0.0002, 0.0004,  ..., 0.0275, 0.0033, 0.0361],\n",
      "       grad_fn=<SelectBackward0>)\n",
      "tensor([0.1004, 0.0002, 0.0005,  ..., 0.0289, 0.0067, 0.1189],\n",
      "       grad_fn=<SelectBackward0>)\n",
      "tensor([0.0514, 0.0007, 0.0006,  ..., 0.0269, 0.0028, 0.0903],\n",
      "       grad_fn=<SelectBackward0>)\n",
      "tensor([1.8360e-02, 1.1815e-04, 1.2054e-04,  ..., 1.7191e-02, 4.1829e-01,\n",
      "        1.7495e-01], grad_fn=<SelectBackward0>)\n",
      "tensor([2.0089e-03, 6.5488e-05, 3.8539e-05,  ..., 1.3961e-02, 6.8183e-01,\n",
      "        7.0797e-02], grad_fn=<SelectBackward0>)\n",
      "tensor([1.2349e-02, 3.3425e-04, 3.0888e-05,  ..., 9.1894e-03, 1.8073e-02,\n",
      "        1.3431e-02], grad_fn=<SelectBackward0>)\n",
      "tensor([1.3835e-02, 2.0051e-04, 6.8089e-05,  ..., 2.5069e-02, 2.8805e-03,\n",
      "        1.1742e-02], grad_fn=<SelectBackward0>)\n",
      "tensor([2.5331e-02, 1.5897e-05, 5.0562e-07,  ..., 3.8167e-01, 2.9764e-02,\n",
      "        1.9905e-02], grad_fn=<SelectBackward0>)\n",
      "tensor([1.8518e-03, 9.6471e-05, 2.4560e-06,  ..., 1.3661e-02, 2.7998e-02,\n",
      "        6.1978e-03], grad_fn=<SelectBackward0>)\n",
      "tensor([4.3595e-03, 7.9255e-05, 4.6715e-05,  ..., 1.5153e-02, 1.2748e-01,\n",
      "        1.4386e-02], grad_fn=<SelectBackward0>)\n",
      "tensor([0.0290, 0.0001, 0.0002,  ..., 0.0014, 0.0034, 0.0083],\n",
      "       grad_fn=<SelectBackward0>)\n",
      "tensor([3.5482e-03, 3.2599e-04, 6.9394e-05,  ..., 1.2306e-02, 1.2452e-02,\n",
      "        5.5188e-03], grad_fn=<SelectBackward0>)\n",
      "tensor([0.0320, 0.0002, 0.0002,  ..., 0.0033, 0.0027, 0.0057],\n",
      "       grad_fn=<SelectBackward0>)\n",
      "tensor([1.7073e-01, 7.0938e-05, 3.5989e-04,  ..., 1.1123e-03, 4.3857e-02,\n",
      "        5.9310e-02], grad_fn=<SelectBackward0>)\n",
      "tensor([1.4611e-01, 1.2732e-04, 4.2845e-04,  ..., 1.8345e-03, 2.2591e-02,\n",
      "        3.3255e-02], grad_fn=<SelectBackward0>)\n",
      "tensor([0.2289, 0.0003, 0.0006,  ..., 0.0017, 0.0037, 0.0181],\n",
      "       grad_fn=<SelectBackward0>)\n",
      "tensor([2.5186e-01, 8.6316e-05, 6.1612e-04,  ..., 5.6038e-03, 1.3904e-03,\n",
      "        6.3368e-03], grad_fn=<SelectBackward0>)\n",
      "tensor([9.2837e-02, 7.8337e-04, 6.9458e-05,  ..., 3.5114e-02, 1.7625e-02,\n",
      "        1.8664e-02], grad_fn=<SelectBackward0>)\n",
      "tensor([1.9481e-01, 1.3649e-04, 8.4617e-05,  ..., 7.1210e-03, 9.9604e-04,\n",
      "        2.7381e-04], grad_fn=<SelectBackward0>)\n",
      "tensor([0.0750, 0.0018, 0.0003,  ..., 0.0032, 0.0001, 0.0015],\n",
      "       grad_fn=<SelectBackward0>)\n",
      "tensor([3.6642e-03, 9.3743e-05, 6.1283e-05,  ..., 1.5914e-02, 7.1580e-03,\n",
      "        3.0591e-03], grad_fn=<SelectBackward0>)\n",
      "tensor([2.1620e-02, 1.7987e-04, 1.5882e-05,  ..., 6.8857e-02, 7.5655e-03,\n",
      "        5.4582e-02], grad_fn=<SelectBackward0>)\n",
      "tensor([1.6393e-02, 9.7142e-05, 3.1073e-05,  ..., 3.8640e-02, 1.0107e-02,\n",
      "        4.1371e-02], grad_fn=<SelectBackward0>)\n",
      "tensor([9.5536e-03, 8.8868e-04, 1.7155e-05,  ..., 6.2623e-02, 4.1953e-02,\n",
      "        5.0703e-02], grad_fn=<SelectBackward0>)\n",
      "tensor([1.8948e-02, 1.4831e-04, 5.8542e-05,  ..., 2.7987e-02, 5.8600e-03,\n",
      "        2.5322e-02], grad_fn=<SelectBackward0>)\n",
      "tensor([1.4315e-01, 1.1478e-04, 5.3604e-04,  ..., 3.7875e-03, 1.5988e-03,\n",
      "        1.0030e-03], grad_fn=<SelectBackward0>)\n",
      "tensor([8.4042e-01, 1.0863e-07, 9.5896e-08,  ..., 3.2022e-05, 4.3258e-06,\n",
      "        1.2697e-06], grad_fn=<SelectBackward0>)\n",
      "tensor([6.4130e-01, 5.4828e-05, 1.0388e-04,  ..., 9.8798e-04, 9.0558e-05,\n",
      "        2.5597e-03], grad_fn=<SelectBackward0>)\n",
      "tensor([9.9443e-01, 3.9937e-12, 5.0425e-10,  ..., 2.6864e-09, 1.0854e-14,\n",
      "        3.8544e-09], grad_fn=<SelectBackward0>)\n"
     ]
    }
   ],
   "source": [
    "layer=0\n",
    "for l in output2.attentions[0]:\n",
    "    attention_score_by_layer = l.squeeze()\n",
    "    res = torch.zeros(attention_score_by_layer.shape[0],attention_score_by_layer.shape[2])\n",
    "    i=0\n",
    "    for h in attention_score_by_layer:\n",
    "        attention_score_by_last_token = h[-1,:]\n",
    "        res[i] = attention_score_by_last_token\n",
    "        print(res[i])\n",
    "        i+=1\n",
    "    # res = res.mean(dim=0)\n",
    "    # att_ratio_prompt = res[:-8].sum()\n",
    "    # att_ratio_query = res[-8:].sum()\n",
    "    # print(att_ratio_prompt, att_ratio_query, layer)\n",
    "    # print(\"_______________________\")\n",
    "    layer+=1"
   ]
  },
  {
   "cell_type": "code",
   "execution_count": 30,
   "metadata": {},
   "outputs": [
    {
     "data": {
      "text/plain": [
       "tensor(0.7674)"
      ]
     },
     "execution_count": 30,
     "metadata": {},
     "output_type": "execute_result"
    }
   ],
   "source": [
    "res[:-12].sum()"
   ]
  },
  {
   "cell_type": "code",
   "execution_count": 40,
   "metadata": {},
   "outputs": [],
   "source": [
    "from baukit import TraceDict\n",
    "\n",
    "\n",
    "with TraceDict(model, layers = ['model.layers.12', 'model.layers.13'], retain_input=True, retain_output=True) as td:\n",
    "    model(**inputs)"
   ]
  },
  {
   "cell_type": "code",
   "execution_count": 68,
   "metadata": {},
   "outputs": [
    {
     "data": {
      "text/plain": [
       "(tensor([[[-0.0262,  0.3578, -0.0736,  ...,  0.4321,  0.3053,  0.1958],\n",
       "          [ 0.2324, -0.1933,  0.1212,  ..., -0.1416, -0.0911,  0.0119],\n",
       "          [-0.1551,  0.0135, -0.0292,  ..., -0.1046,  0.0068,  0.1350],\n",
       "          ...,\n",
       "          [ 0.0872, -0.1376,  0.0152,  ...,  0.0065,  0.1807,  0.0288],\n",
       "          [ 0.0626, -0.2305,  0.1866,  ..., -0.0289, -0.0213,  0.0405],\n",
       "          [ 0.1151, -0.0209, -0.0755,  ...,  0.2087, -0.1086,  0.1950]]],\n",
       "        grad_fn=<AddBackward0>),\n",
       " DynamicCache())"
      ]
     },
     "execution_count": 68,
     "metadata": {},
     "output_type": "execute_result"
    }
   ],
   "source": [
    "td['model.layers.12'].output"
   ]
  },
  {
   "cell_type": "code",
   "execution_count": 41,
   "metadata": {},
   "outputs": [],
   "source": [
    "icv = td['model.layers.13'].input.detach()"
   ]
  },
  {
   "cell_type": "code",
   "execution_count": 43,
   "metadata": {},
   "outputs": [
    {
     "data": {
      "text/plain": [
       "torch.Size([1, 1785, 4096])"
      ]
     },
     "execution_count": 43,
     "metadata": {},
     "output_type": "execute_result"
    }
   ],
   "source": [
    "icv.shape"
   ]
  },
  {
   "cell_type": "code",
   "execution_count": 75,
   "metadata": {},
   "outputs": [
    {
     "data": {
      "text/plain": [
       "tensor([ 0.1151, -0.0209, -0.0755,  ...,  0.2087, -0.1086,  0.1950])"
      ]
     },
     "execution_count": 75,
     "metadata": {},
     "output_type": "execute_result"
    }
   ],
   "source": [
    "icv"
   ]
  },
  {
   "cell_type": "code",
   "execution_count": 93,
   "metadata": {},
   "outputs": [],
   "source": [
    "def add_function_vector(edit_layer, fv_vector, device, idx=-1):\n",
    "    \"\"\"\n",
    "    Adds a vector to the output of a specified layer in the model\n",
    "\n",
    "    Parameters:\n",
    "    edit_layer: the layer to perform the FV intervention\n",
    "    fv_vector: the function vector to add as an intervention\n",
    "    device: device of the model (cuda gpu or cpu)\n",
    "    idx: the token index to add the function vector at\n",
    "\n",
    "    Returns:\n",
    "    add_act: a fuction specifying how to add a function vector to a layer's output hidden state\n",
    "    \"\"\"\n",
    "    def add_act(output, layer_name):\n",
    "        current_layer = int(layer_name.split(\".\")[2])\n",
    "        if current_layer == edit_layer:\n",
    "            if isinstance(output, tuple):\n",
    "                output[0][:, idx] += fv_vector.to(device)\n",
    "                return output\n",
    "            else:\n",
    "                return output\n",
    "        else:\n",
    "            return output\n",
    "\n",
    "    return add_act"
   ]
  },
  {
   "cell_type": "code",
   "execution_count": 94,
   "metadata": {},
   "outputs": [],
   "source": [
    "intervention_fn = add_function_vector(13, icv.reshape(1, 4096), model.device, idx=-1)\n",
    "\n",
    "prompt2 = \"Classify the type of answer from given question.\\nQuestion: How long is Camptown Racetrack ?\\ntype: number\\n\\nQuestion: What is the name of the brilliant British economist behind its creation ?\\ntype: human\\n\\nQuestion: Where do I find information for foreclosure properties on the Internet ?\\ntype: location\\n\\nQuestion: Where did Ty Cobb grow up ?\\ntype: location\\n\\nQuestion: How many teaspoons make up a tablespoon ?\\ntype: number\\n\\nQuestion: What baseball expression came from the nautical term for ships sailing between the Atlantic and Pacific before the Panama Canal ?\\ntype: description\\n\\nQuestion: What animal has been called The Poor Man's Cow ?\\ntype: entity\\n\\nQuestion: What book opens : `` At a certain village in La Mancha, which I shall not name...'' ?\\ntype: entity\\n\\nQuestion: What is the origin of the word, magic ?\\ntype: description\\n\\nQuestion: Name the blind sculptress in love with the Fantastic Four's Thing.\\ntype: human\\n\\nQuestion: Where can I find info on Alexander Mackenzie ?\\ntype: location\\n\\nQuestion: How many years ago did Led Zeppelin release its last album ?\\ntype: number\\n\\nQuestion: What does God create in the first sentence of the Bible ?\\ntype: entity\\n\\nQuestion: What is the price for tuberculosis drugs ?\\ntype: number\\n\\nQuestion: What were Baffin, Frobisher and Franklin looking for ?\\ntype: entity\\n\\nQuestion: What do the red-and-white stripes on a barbershop pole stand for ?\\ntype: description\\n\\nQuestion: How do doctors diagnose bone cancer ?\\ntype: description\\n\\nQuestion: Where can I find a world atlas map online at no charge ?\\ntype: location\\n\\nQuestion: In which Tennessee Williams play is one of the characters killed and devoured by a mob of starving children ?\\ntype: entity\\n\\nQuestion: In what year did they build the Berlin Wall ?\\ntype: number\\n\\nQuestion: What are the Nordic nations ?\\ntype: location\\n\\nQuestion: Name the vessel used by the Atari Force in the DC comics.\\ntype: entity\\n\\nQuestion: What are values ?\\ntype: description\\n\\nQuestion: Where is McCarren Airport ?\\ntype: location\\n\\nQuestion: Which of the following people is not associated with Andy Warhol ?\\ntype: human\\n\\nQuestion: What information can you get me on Fairground Park in St. Louis\\ntype: description\\n\\nQuestion: What according to the Kinsey Institute, is the sexual preference of four percent of American males ?\\ntype: description\\n\\nQuestion: What is the origin of the term `` buffalo wings'' that is used as a menu item in bars across the nation for chicken wings in a spicey sauce ?\\ntype: description\\n\\nQuestion: Who was the original Humpty Dumpty ?\\ntype: human\\n\\nQuestion: How many equal sides are there on a scalene triangle ?\\ntype: number\\n\\nQuestion: Where is Windsor Castle ?\\ntype: location\\n\\nQuestion: Who directed The Wild Bunch ?\\ntype: human\\n\\nQuestion: What is the chromosome number of an elephant ?\\ntype: number\\n\\nQuestion: Where is Qatar ?\\ntype: location\\n\\nQuestion: Who invented the Wonderbra ?\\ntype: human\\n\\nQuestion: What is an example of an actual case of using the Fourteenth Amendment ?\\ntype: description\\n\\nQuestion: What kind of creatures are the Canary Islands named for ?\\ntype: entity\\n\\nQuestion: How can I register my website in Yahoo for free ?\\ntype: description\\n\\nQuestion: What is the seafaring name for the southern tip of South America ?\\ntype: location\\n\\nQuestion: Where can I find a case on Americans with Disabilities Act of 199 ?\\ntype: location\\n\\nQuestion: What are those little blue reflectors in the middle of the road for ?\\ntype: description\\n\\nQuestion: What California bridge was Don Brown the first to cross, on May 27, 1937 ?\\ntype: location\\n\\nQuestion: What card game derived its name from biritch, or Russian Whist ?\\ntype: entity\\n\\nQuestion: What company's logo is a `` W'' in a circle ?\\ntype: human\\n\\nQuestion: What is a portal ?\\ntype: description\\n\\nQuestion: What disease did August von Wassermann develop a specific test for in 196 ?\\ntype: entity\\n\\nQuestion: What's the abbreviation for trinitrotoluene ?\\ntype: abbreviation\\n\\nQuestion: Where did Bill Gates go to college ?\\ntype: location\\n\\nQuestion: On what T.V. show could Tom Terrific be found ?\\ntype: entity\\n\\nQuestion: Why do some clothing labels say `` Use a nonchlorine bleach'' ?\\ntype: description\\n\\nQuestion: What is IOC an abbreviation of ?\\ntype: abbreviation\\n\\nQuestion: What Nazi leader killed himself in jail just before he was to be executed as a war criminal ?\\ntype: human\\n\\nQuestion: Who is the head of the World Bank ?\\ntype: human\\n\\nQuestion: Who is the Prophet of Medina ?\\ntype: human\\n\\nQuestion: Who discovered imaginary numbers ?\\ntype: human\\n\\nQuestion: Which of the following famous people does not paint as a hobby ?\\ntype: human\\n\\nQuestion: What is a caul ?\\ntype: description\\n\\nQuestion: What does saliva consist of ?\\ntype: entity\\n\\nQuestion: What capital is built around Monument Circle which contains soldiers and sailors monument ?\\ntype: location\\n\\nQuestion: What are some tips for building a fire in a fireplace ?\\ntype: entity\\n\\nQuestion: What deck of cards includes the Wheel of Fortune, the Lovers, and Death ?\\ntype: entity\\n\\nQuestion: How many teats does a female goat sport ?\\ntype: number\\n\\nQuestion: How is Answers.com different from KnowPost.com ?\\ntype: description\\n\\nQuestion: Which area produces the least acidic coffee ?\\ntype: location\\n\\nQuestion: What is the fear of frogs ?\\ntype: entity\\n\\nQuestion: Where did the term `` 86'' come from ?\\ntype: description\\n\\nQuestion: Who replaced Bert Parks as the host of The Miss America Pageant ?\\ntype: human\\n\\nQuestion: Who reports the weather on the `` Good Morning America'' television show ?\\ntype: human\\n\\nQuestion: What kind of animals were in the Paleozoic era ?\\ntype: entity\\n\\nQuestion: How much will gas be taxed in California by the year 2000 ?\\ntype: number\\n\\nQuestion: What number is at 12 o'clock on a dartboard ?\\ntype: number\\n\\nQuestion: What was Mao, the Chinese leader's, full name ?\\ntype: human\\n\\nQuestion: What is the richest state in the U.S. ?\\ntype: location\\n\\nQuestion: How did the 7th inning stretch get started ?\\ntype: description\\n\\nQuestion: What does Warner Bros. call a flightless cuckoo ?\\ntype: entity\\n\\nQuestion: Who portrayed `` the man without a face'' in the movie of the same name ?\\ntype: human\\n\\nQuestion: In the movie Groundshog Day what is the name of the character played by Andie MacDowell ?\\ntype: human\\n\\nQuestion: A corgi is a kind of what ?\\ntype: entity\\n\\nQuestion: Why do oceans contain salt water instead of fresh water ?\\ntype: description\\n\\nQuestion: Who was in Death of a Salesman original movie, not 1985 ?\\ntype: human\\n\\nQuestion: What is the movie Jonathan Livingstone Seagull ?\\ntype: entity\\n\\nQuestion: What's the closest G2 Spectrum Yellow Dwarf to Earth ?\\ntype: location\\n\\nQuestion: What does the River Seine empty into ?\\ntype: location\\n\\nQuestion: What city is found in the city of OZ ?\\ntype: location\\n\\nQuestion: Name a tiger that is extinct.\\ntype: entity\\n\\nQuestion: How big is a baby bald eagle ?\\ntype: number\\n\\nQuestion: How do you say 2 in Latin ?\\ntype: entity\\n\\nQuestion: What desert has the highest sand dunes ?\\ntype: location\\n\\nQuestion: What planet did Percival Lovell discover ?\\ntype: location\\n\\nQuestion: How much money did the Marcos steal from their country ?\\ntype: number\\n\\nQuestion: Whose cupboard was bare ?\\ntype: human\\n\\nQuestion: What TV character sired a horse named Thunder ?\\ntype: human\\n\\nQuestion: Where in a tree does photosynthesis occur ?\\ntype: location\\n\\nQuestion: In order from the top, the four stripes on a can of Pepsi are what colors ?\\ntype: entity\\n\\nQuestion: What is the origin of the word nevermind ?\\ntype: description\\n\\nQuestion: Who was the king who signed the Magna Carta ?\\ntype: human\\n\\nQuestion: What is the origin of the typing practice sentence `` Now is the time for all good men to come to the aid of their country'' ?\\ntype: description\\n\\nQuestion: What is a biologist ?\\ntype: description\\n\\nQuestion: How many counties are in Indiana ?\\ntype: number\\n\\nQuestion: What TV show premiered on January 15, 1981 ?\\ntype: entity\\n\\nQuestion: What is caffeine ?\\ntype:\"\n",
    "inputs2 = tokenizer(prompt2, return_tensors='pt')\n",
    "with TraceDict(model, layers = ['model.layers.13'], edit_output=intervention_fn):\n",
    "    output = model.generate(inputs2.input_ids, max_new_tokens = 100, \n",
    "                            pad_token_id=tokenizer.eos_token_id, stop_strings = \"\\n\\n\", tokenizer=tokenizer)\n",
    "    intervention_output = tokenizer.decode(output.squeeze()[len(inputs2.input_ids.squeeze()):])"
   ]
  },
  {
   "cell_type": "code",
   "execution_count": 95,
   "metadata": {},
   "outputs": [
    {
     "data": {
      "text/plain": [
       "' description\\n\\n'"
      ]
     },
     "execution_count": 95,
     "metadata": {},
     "output_type": "execute_result"
    }
   ],
   "source": [
    "intervention_output"
   ]
  },
  {
   "cell_type": "code",
   "execution_count": 97,
   "metadata": {},
   "outputs": [],
   "source": [
    "from sklearn.metrics import f1_score\n",
    "\n",
    "gt = [\"A\", \"B\", \"C\", \"E\", \"A\", \"D\"]\n",
    "pred = [\"B\", \"a\", \"C\", \"D\", \"D\", \"D\"]\n",
    "\n",
    "f1 = f1_score(gt, pred, average='macro')"
   ]
  },
  {
   "cell_type": "code",
   "execution_count": 98,
   "metadata": {},
   "outputs": [
    {
     "data": {
      "text/plain": [
       "0.25"
      ]
     },
     "execution_count": 98,
     "metadata": {},
     "output_type": "execute_result"
    }
   ],
   "source": [
    "f1"
   ]
  },
  {
   "cell_type": "code",
   "execution_count": 3,
   "metadata": {},
   "outputs": [
    {
     "name": "stdout",
     "output_type": "stream",
     "text": [
      "L2 Norm: tensor(5.)\n"
     ]
    }
   ],
   "source": [
    "import torch\n",
    "x = torch.tensor([[3.0, 4.0]])\n",
    "l2_norm = torch.norm(x)\n",
    "print(\"L2 Norm:\", l2_norm)"
   ]
  },
  {
   "cell_type": "code",
   "execution_count": 56,
   "metadata": {},
   "outputs": [
    {
     "data": {
      "text/plain": [
       "[5, 6, 7]"
      ]
     },
     "execution_count": 56,
     "metadata": {},
     "output_type": "execute_result"
    }
   ],
   "source": [
    "x = [1,2,3,4,5,6,7]\n",
    "x[-3:]"
   ]
  },
  {
   "cell_type": "code",
   "execution_count": null,
   "metadata": {},
   "outputs": [],
   "source": []
  }
 ],
 "metadata": {
  "kernelspec": {
   "display_name": "fv",
   "language": "python",
   "name": "python3"
  },
  "language_info": {
   "codemirror_mode": {
    "name": "ipython",
    "version": 3
   },
   "file_extension": ".py",
   "mimetype": "text/x-python",
   "name": "python",
   "nbconvert_exporter": "python",
   "pygments_lexer": "ipython3",
   "version": "3.10.15"
  }
 },
 "nbformat": 4,
 "nbformat_minor": 2
}
