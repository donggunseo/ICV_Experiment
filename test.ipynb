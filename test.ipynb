{
 "cells": [
  {
   "cell_type": "code",
   "execution_count": 3,
   "metadata": {},
   "outputs": [
    {
     "ename": "FileNotFoundError",
     "evalue": "[Errno 2] No such file or directory: './results_fp16/clinc150/100shots/40/fs_result.json'",
     "output_type": "error",
     "traceback": [
      "\u001b[0;31m---------------------------------------------------------------------------\u001b[0m",
      "\u001b[0;31mFileNotFoundError\u001b[0m                         Traceback (most recent call last)",
      "Cell \u001b[0;32mIn[3], line 12\u001b[0m\n\u001b[1;32m     10\u001b[0m stacked_diff_icv_f1 \u001b[38;5;241m=\u001b[39m \u001b[38;5;241m0.0\u001b[39m\n\u001b[1;32m     11\u001b[0m \u001b[38;5;28;01mfor\u001b[39;00m seed \u001b[38;5;129;01min\u001b[39;00m [\u001b[38;5;241m40\u001b[39m, \u001b[38;5;241m41\u001b[39m,\u001b[38;5;241m42\u001b[39m]:\n\u001b[0;32m---> 12\u001b[0m     \u001b[38;5;28;01mwith\u001b[39;00m \u001b[38;5;28;43mopen\u001b[39;49m\u001b[43m(\u001b[49m\u001b[43msave_path_root\u001b[49m\u001b[38;5;241;43m+\u001b[39;49m\u001b[38;5;124;43mf\u001b[39;49m\u001b[38;5;124;43m\"\u001b[39;49m\u001b[38;5;132;43;01m{\u001b[39;49;00m\u001b[43mseed\u001b[49m\u001b[38;5;132;43;01m}\u001b[39;49;00m\u001b[38;5;124;43m/\u001b[39;49m\u001b[38;5;124;43m\"\u001b[39;49m\u001b[38;5;241;43m+\u001b[39;49m\u001b[38;5;124;43m\"\u001b[39;49m\u001b[38;5;124;43mfs_result.json\u001b[39;49m\u001b[38;5;124;43m\"\u001b[39;49m\u001b[43m,\u001b[49m\u001b[43m \u001b[49m\u001b[38;5;124;43m\"\u001b[39;49m\u001b[38;5;124;43mr\u001b[39;49m\u001b[38;5;124;43m\"\u001b[39;49m\u001b[43m)\u001b[49m \u001b[38;5;28;01mas\u001b[39;00m f:\n\u001b[1;32m     13\u001b[0m         res \u001b[38;5;241m=\u001b[39m json\u001b[38;5;241m.\u001b[39mload(f)\n\u001b[1;32m     14\u001b[0m     score \u001b[38;5;241m=\u001b[39m res[\u001b[38;5;124m'\u001b[39m\u001b[38;5;124mscore\u001b[39m\u001b[38;5;124m'\u001b[39m]\n",
      "File \u001b[0;32m~/anaconda3/envs/fv/lib/python3.10/site-packages/IPython/core/interactiveshell.py:324\u001b[0m, in \u001b[0;36m_modified_open\u001b[0;34m(file, *args, **kwargs)\u001b[0m\n\u001b[1;32m    317\u001b[0m \u001b[38;5;28;01mif\u001b[39;00m file \u001b[38;5;129;01min\u001b[39;00m {\u001b[38;5;241m0\u001b[39m, \u001b[38;5;241m1\u001b[39m, \u001b[38;5;241m2\u001b[39m}:\n\u001b[1;32m    318\u001b[0m     \u001b[38;5;28;01mraise\u001b[39;00m \u001b[38;5;167;01mValueError\u001b[39;00m(\n\u001b[1;32m    319\u001b[0m         \u001b[38;5;124mf\u001b[39m\u001b[38;5;124m\"\u001b[39m\u001b[38;5;124mIPython won\u001b[39m\u001b[38;5;124m'\u001b[39m\u001b[38;5;124mt let you open fd=\u001b[39m\u001b[38;5;132;01m{\u001b[39;00mfile\u001b[38;5;132;01m}\u001b[39;00m\u001b[38;5;124m by default \u001b[39m\u001b[38;5;124m\"\u001b[39m\n\u001b[1;32m    320\u001b[0m         \u001b[38;5;124m\"\u001b[39m\u001b[38;5;124mas it is likely to crash IPython. If you know what you are doing, \u001b[39m\u001b[38;5;124m\"\u001b[39m\n\u001b[1;32m    321\u001b[0m         \u001b[38;5;124m\"\u001b[39m\u001b[38;5;124myou can use builtins\u001b[39m\u001b[38;5;124m'\u001b[39m\u001b[38;5;124m open.\u001b[39m\u001b[38;5;124m\"\u001b[39m\n\u001b[1;32m    322\u001b[0m     )\n\u001b[0;32m--> 324\u001b[0m \u001b[38;5;28;01mreturn\u001b[39;00m \u001b[43mio_open\u001b[49m\u001b[43m(\u001b[49m\u001b[43mfile\u001b[49m\u001b[43m,\u001b[49m\u001b[43m \u001b[49m\u001b[38;5;241;43m*\u001b[39;49m\u001b[43margs\u001b[49m\u001b[43m,\u001b[49m\u001b[43m \u001b[49m\u001b[38;5;241;43m*\u001b[39;49m\u001b[38;5;241;43m*\u001b[39;49m\u001b[43mkwargs\u001b[49m\u001b[43m)\u001b[49m\n",
      "\u001b[0;31mFileNotFoundError\u001b[0m: [Errno 2] No such file or directory: './results_fp16/clinc150/100shots/40/fs_result.json'"
     ]
    }
   ],
   "source": [
    "import json\n",
    "\n",
    "dataset = 'clinc150'\n",
    "save_path_root = f'./results_fp16/{dataset}/100shots/'\n",
    "\n",
    "fs_f1 = 0.0\n",
    "zs_f1 = 0.0\n",
    "base_icv_f1 = 0.0\n",
    "diff_icv_base_f1 = 0.0\n",
    "stacked_diff_icv_f1 = 0.0\n",
    "for seed in [40, 41,42]:\n",
    "    with open(save_path_root+f\"{seed}/\"+\"fs_result.json\", \"r\") as f:\n",
    "        res = json.load(f)\n",
    "    score = res['score']\n",
    "    fs_f1+=score\n",
    "    with open(save_path_root+f\"{seed}/\"+\"zs_result.json\", \"r\") as f:\n",
    "        res = json.load(f)\n",
    "    score = res['score']\n",
    "    zs_f1+=score\n",
    "    with open(save_path_root+f\"{seed}/\"+\"task_vector_result.json\", \"r\") as f:\n",
    "        res = json.load(f)\n",
    "    score = res['score']\n",
    "    base_icv_f1+=score\n",
    "    with open(save_path_root+f\"{seed}/\"+\"baseline_diff_icv_result.json\", \"r\") as f:\n",
    "        res = json.load(f)\n",
    "    score = res['score']\n",
    "    diff_icv_base_f1+=score\n",
    "    with open(save_path_root+f\"{seed}/\"+\"stacked_diff_icv_result.json\", \"r\") as f:\n",
    "        res = json.load(f)\n",
    "    score = res['score']\n",
    "    stacked_diff_icv_f1+=score\n",
    "\n",
    "print(fs_f1/3, zs_f1/3, base_icv_f1/3, diff_icv_base_f1/3, stacked_diff_icv_f1/3)\n"
   ]
  },
  {
   "cell_type": "code",
   "execution_count": 3,
   "metadata": {},
   "outputs": [],
   "source": [
    "import json\n",
    "\n",
    "dataset = 'clinc150'\n",
    "save_path_root = f'./results/{dataset}/100shots/'\n",
    "\n",
    "prediction_keep_ratio = [0,0,0]\n",
    "fix_ratio = [0,0,0]\n",
    "change_to_wrong_ratio = [0,0,0]\n",
    "\n",
    "for seed in [40, 41,42]:\n",
    "    with open(save_path_root+f\"{seed}/\"+\"fs_result.json\", \"r\") as f:\n",
    "        f1_res = json.load(f)\n",
    "    with open(save_path_root+f\"{seed}/\"+\"baseline_icv_result.json\", \"r\") as f:\n",
    "        bi_res = json.load(f)\n",
    "    with open(save_path_root+f\"{seed}/\"+\"baseline_diff_icv_result.json\", \"r\") as f:\n",
    "        dbi_res = json.load(f)\n",
    "    with open(save_path_root+f\"{seed}/\"+\"stacked_diff_icv_result.json\", \"r\") as f:\n",
    "        sdi_res = json.load(f)\n",
    "    \n",
    "    for fi, bi, dbi, sdi in zip(f1_res['result'], bi_res['result'], dbi_res['result'], sdi_res['result']):\n",
    "        if fi['prediction']==bi['intervention_prediction']:\n",
    "            prediction_keep_ratio[0]+=1/100\n",
    "        if fi['prediction']==dbi['intervention_prediction']:\n",
    "            prediction_keep_ratio[1]+=1/100\n",
    "        if fi['prediction']==sdi['intervention_prediction']:\n",
    "            prediction_keep_ratio[2]+=1/100\n",
    "        \n",
    "        if fi['prediction']!=bi['intervention_prediction'] and bi['intervention_prediction']==fi['gt']:\n",
    "            fix_ratio[0]+=1/100\n",
    "        if fi['prediction']!=dbi['intervention_prediction'] and dbi['intervention_prediction']==fi['gt']:\n",
    "            fix_ratio[1]+=1/100\n",
    "        if fi['prediction']!=sdi['intervention_prediction'] and sdi['intervention_prediction']==fi['gt']:\n",
    "            fix_ratio[2]+=1/100\n",
    "        \n",
    "        if fi['prediction']!=bi['intervention_prediction'] and fi['prediction']==fi['gt']:\n",
    "            change_to_wrong_ratio[0]+=1/100\n",
    "        if fi['prediction']!=dbi['intervention_prediction'] and fi['prediction']==fi['gt']:\n",
    "            change_to_wrong_ratio[1]+=1/100\n",
    "        if fi['prediction']!=sdi['intervention_prediction'] and fi['prediction']==fi['gt']:\n",
    "            change_to_wrong_ratio[2]+=1/100\n",
    "\n",
    "prediction_keep_ratio = [i/3 for i in prediction_keep_ratio]\n",
    "fix_ratio = [i/3 for i in fix_ratio]\n",
    "change_to_wrong_ratio = [i/3 for i in change_to_wrong_ratio]"
   ]
  },
  {
   "cell_type": "code",
   "execution_count": 4,
   "metadata": {},
   "outputs": [
    {
     "data": {
      "text/plain": [
       "[0.46333333333333365, 0.6433333333333339, 0.6533333333333339]"
      ]
     },
     "execution_count": 4,
     "metadata": {},
     "output_type": "execute_result"
    }
   ],
   "source": [
    "prediction_keep_ratio"
   ]
  },
  {
   "cell_type": "code",
   "execution_count": 5,
   "metadata": {},
   "outputs": [
    {
     "data": {
      "text/plain": [
       "[0.016666666666666666, 0.04333333333333333, 0.03666666666666666]"
      ]
     },
     "execution_count": 5,
     "metadata": {},
     "output_type": "execute_result"
    }
   ],
   "source": [
    "fix_ratio"
   ]
  },
  {
   "cell_type": "code",
   "execution_count": 6,
   "metadata": {},
   "outputs": [
    {
     "data": {
      "text/plain": [
       "[0.4300000000000003, 0.2733333333333335, 0.24333333333333348]"
      ]
     },
     "execution_count": 6,
     "metadata": {},
     "output_type": "execute_result"
    }
   ],
   "source": [
    "change_to_wrong_ratio"
   ]
  },
  {
   "cell_type": "code",
   "execution_count": null,
   "metadata": {},
   "outputs": [],
   "source": []
  }
 ],
 "metadata": {
  "kernelspec": {
   "display_name": "fv",
   "language": "python",
   "name": "python3"
  },
  "language_info": {
   "codemirror_mode": {
    "name": "ipython",
    "version": 3
   },
   "file_extension": ".py",
   "mimetype": "text/x-python",
   "name": "python",
   "nbconvert_exporter": "python",
   "pygments_lexer": "ipython3",
   "version": "3.10.15"
  }
 },
 "nbformat": 4,
 "nbformat_minor": 2
}
