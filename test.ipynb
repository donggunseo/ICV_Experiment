{
 "cells": [
  {
   "cell_type": "code",
   "execution_count": 2,
   "metadata": {},
   "outputs": [
    {
     "name": "stdout",
     "output_type": "stream",
     "text": [
      "0.7424216456608482 0.3667378917378918 0.3073060247201191 0.4671201814058957 0.4804191203434069\n"
     ]
    }
   ],
   "source": [
    "import json\n",
    "\n",
    "dataset = 'clinc150'\n",
    "save_path_root = f'./results/{dataset}/100shots/'\n",
    "\n",
    "fs_f1 = 0.0\n",
    "zs_f1 = 0.0\n",
    "base_icv_f1 = 0.0\n",
    "diff_icv_base_f1 = 0.0\n",
    "stacked_diff_icv_f1 = 0.0\n",
    "for seed in [40, 41,42]:\n",
    "    with open(save_path_root+f\"{seed}/\"+\"fs_result.json\", \"r\") as f:\n",
    "        res = json.load(f)\n",
    "    score = res['score']\n",
    "    fs_f1+=score\n",
    "    with open(save_path_root+f\"{seed}/\"+\"zs_result.json\", \"r\") as f:\n",
    "        res = json.load(f)\n",
    "    score = res['score']\n",
    "    zs_f1+=score\n",
    "    with open(save_path_root+f\"{seed}/\"+\"baseline_icv_result.json\", \"r\") as f:\n",
    "        res = json.load(f)\n",
    "    score = res['score']\n",
    "    base_icv_f1+=score\n",
    "    with open(save_path_root+f\"{seed}/\"+\"baseline_diff_icv_result.json\", \"r\") as f:\n",
    "        res = json.load(f)\n",
    "    score = res['score']\n",
    "    diff_icv_base_f1+=score\n",
    "    with open(save_path_root+f\"{seed}/\"+\"stacked_diff_icv_result.json\", \"r\") as f:\n",
    "        res = json.load(f)\n",
    "    score = res['score']\n",
    "    stacked_diff_icv_f1+=score\n",
    "\n",
    "print(fs_f1/3, zs_f1/3, base_icv_f1/3, diff_icv_base_f1/3, stacked_diff_icv_f1/3)\n"
   ]
  },
  {
   "cell_type": "code",
   "execution_count": 3,
   "metadata": {},
   "outputs": [],
   "source": [
    "import json\n",
    "\n",
    "dataset = 'clinc150'\n",
    "save_path_root = f'./results/{dataset}/100shots/'\n",
    "\n",
    "prediction_keep_ratio = [0,0,0]\n",
    "fix_ratio = [0,0,0]\n",
    "change_to_wrong_ratio = [0,0,0]\n",
    "\n",
    "for seed in [40, 41,42]:\n",
    "    with open(save_path_root+f\"{seed}/\"+\"fs_result.json\", \"r\") as f:\n",
    "        f1_res = json.load(f)\n",
    "    with open(save_path_root+f\"{seed}/\"+\"baseline_icv_result.json\", \"r\") as f:\n",
    "        bi_res = json.load(f)\n",
    "    with open(save_path_root+f\"{seed}/\"+\"baseline_diff_icv_result.json\", \"r\") as f:\n",
    "        dbi_res = json.load(f)\n",
    "    with open(save_path_root+f\"{seed}/\"+\"stacked_diff_icv_result.json\", \"r\") as f:\n",
    "        sdi_res = json.load(f)\n",
    "    \n",
    "    for fi, bi, dbi, sdi in zip(f1_res['result'], bi_res['result'], dbi_res['result'], sdi_res['result']):\n",
    "        if fi['prediction']==bi['intervention_prediction']:\n",
    "            prediction_keep_ratio[0]+=1/100\n",
    "        if fi['prediction']==dbi['intervention_prediction']:\n",
    "            prediction_keep_ratio[1]+=1/100\n",
    "        if fi['prediction']==sdi['intervention_prediction']:\n",
    "            prediction_keep_ratio[2]+=1/100\n",
    "        \n",
    "        if fi['prediction']!=bi['intervention_prediction'] and bi['intervention_prediction']==fi['gt']:\n",
    "            fix_ratio[0]+=1/100\n",
    "        if fi['prediction']!=dbi['intervention_prediction'] and dbi['intervention_prediction']==fi['gt']:\n",
    "            fix_ratio[1]+=1/100\n",
    "        if fi['prediction']!=sdi['intervention_prediction'] and sdi['intervention_prediction']==fi['gt']:\n",
    "            fix_ratio[2]+=1/100\n",
    "        \n",
    "        if fi['prediction']!=bi['intervention_prediction'] and fi['prediction']==fi['gt']:\n",
    "            change_to_wrong_ratio[0]+=1/100\n",
    "        if fi['prediction']!=dbi['intervention_prediction'] and fi['prediction']==fi['gt']:\n",
    "            change_to_wrong_ratio[1]+=1/100\n",
    "        if fi['prediction']!=sdi['intervention_prediction'] and fi['prediction']==fi['gt']:\n",
    "            change_to_wrong_ratio[2]+=1/100\n",
    "\n",
    "prediction_keep_ratio = [i/3 for i in prediction_keep_ratio]\n",
    "fix_ratio = [i/3 for i in fix_ratio]\n",
    "change_to_wrong_ratio = [i/3 for i in change_to_wrong_ratio]"
   ]
  },
  {
   "cell_type": "code",
   "execution_count": 4,
   "metadata": {},
   "outputs": [
    {
     "data": {
      "text/plain": [
       "[0.46333333333333365, 0.6433333333333339, 0.6533333333333339]"
      ]
     },
     "execution_count": 4,
     "metadata": {},
     "output_type": "execute_result"
    }
   ],
   "source": [
    "prediction_keep_ratio"
   ]
  },
  {
   "cell_type": "code",
   "execution_count": 5,
   "metadata": {},
   "outputs": [
    {
     "data": {
      "text/plain": [
       "[0.016666666666666666, 0.04333333333333333, 0.03666666666666666]"
      ]
     },
     "execution_count": 5,
     "metadata": {},
     "output_type": "execute_result"
    }
   ],
   "source": [
    "fix_ratio"
   ]
  },
  {
   "cell_type": "code",
   "execution_count": 6,
   "metadata": {},
   "outputs": [
    {
     "data": {
      "text/plain": [
       "[0.4300000000000003, 0.2733333333333335, 0.24333333333333348]"
      ]
     },
     "execution_count": 6,
     "metadata": {},
     "output_type": "execute_result"
    }
   ],
   "source": [
    "change_to_wrong_ratio"
   ]
  },
  {
   "cell_type": "code",
   "execution_count": null,
   "metadata": {},
   "outputs": [],
   "source": []
  }
 ],
 "metadata": {
  "kernelspec": {
   "display_name": "fv",
   "language": "python",
   "name": "python3"
  },
  "language_info": {
   "codemirror_mode": {
    "name": "ipython",
    "version": 3
   },
   "file_extension": ".py",
   "mimetype": "text/x-python",
   "name": "python",
   "nbconvert_exporter": "python",
   "pygments_lexer": "ipython3",
   "version": "3.10.15"
  }
 },
 "nbformat": 4,
 "nbformat_minor": 2
}
